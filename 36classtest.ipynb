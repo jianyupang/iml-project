{
 "cells": [
  {
   "cell_type": "code",
   "execution_count": 96,
   "metadata": {},
   "outputs": [],
   "source": [
    "import keras\n",
    "import numpy as np\n",
    "import matplotlib.pyplot as plt\n",
    "%matplotlib inline"
   ]
  },
  {
   "cell_type": "code",
   "execution_count": 97,
   "metadata": {
    "collapsed": true
   },
   "outputs": [],
   "source": [
    "import scipy.io\n",
    "def load_emnist(file_path='emnist-digits.mat'):\n",
    "    \"\"\"\n",
    "    Loads training and test data with ntr and nts training and test samples\n",
    "    The `file_path` is the location of the `eminst-balanced.mat`.\n",
    "    \"\"\"    \n",
    "    \n",
    "    # Load the MATLAB file\n",
    "    mat = scipy.io.loadmat(file_path)\n",
    "    \n",
    "    # Get the training data\n",
    "    Xtr = mat['dataset'][0][0][0][0][0][0][:]\n",
    "    ntr = Xtr.shape[0]\n",
    "    ytr = mat['dataset'][0][0][0][0][0][1][:].reshape(ntr).astype(int)\n",
    "    \n",
    "    # Get the test data\n",
    "    Xts = mat['dataset'][0][0][1][0][0][0][:]\n",
    "    nts = Xts.shape[0]\n",
    "    yts = mat['dataset'][0][0][1][0][0][1][:].reshape(nts).astype(int)\n",
    "    \n",
    "    print(\"%d training samples, %d test samples loaded\" % (ntr, nts))\n",
    "\n",
    "    return [Xtr, Xts, ytr, yts]"
   ]
  },
  {
   "cell_type": "code",
   "execution_count": 98,
   "metadata": {},
   "outputs": [
    {
     "name": "stdout",
     "output_type": "stream",
     "text": [
      "240000 training samples, 40000 test samples loaded\n",
      "124800 training samples, 20800 test samples loaded\n"
     ]
    }
   ],
   "source": [
    "Xtr_dig, Xts_dig, ytr_dig, yts_dig = load_emnist()\n",
    "Xtr_let, Xts_let, ytr_let, yts_let = load_emnist(file_path='emnist-letters.mat')"
   ]
  },
  {
   "cell_type": "code",
   "execution_count": 99,
   "metadata": {},
   "outputs": [
    {
     "data": {
      "image/png": "[encoded data removed]",
      "text/plain": [
       "<matplotlib.figure.Figure at 0x182e7e0f28>"
      ]
     },
     "metadata": {},
     "output_type": "display_data"
    }
   ],
   "source": [
    "def plt_digit(x,y=None):\n",
    "    nrow = 28\n",
    "    ncol = 28\n",
    "    xsq = x.reshape((nrow,ncol))\n",
    "    plt.imshow(xsq.T,  cmap='Greys_r')\n",
    "    plt.xticks([])\n",
    "    plt.yticks([])    \n",
    "    if y != None:\n",
    "        plt.title('%d' % y)     \n",
    "        \n",
    "nplt = 8\n",
    "nsamp = Xtr_dig.shape[0]\n",
    "Iperm = np.random.permutation(nsamp)\n",
    "\n",
    "# Plot the images using the subplot command\n",
    "for i in range(nplt):\n",
    "    ind = Iperm[i]\n",
    "    plt.subplot(2,nplt,i+1)\n",
    "    plt_digit(Xtr_dig[ind,:])\n",
    "    \n",
    "nplt = 8\n",
    "nsamp = Xtr_let.shape[0]\n",
    "Iperm = np.random.permutation(nsamp)\n",
    "\n",
    "# Plot the images using the subplot command\n",
    "for i in range(nplt):\n",
    "    ind = Iperm[i]\n",
    "    plt.subplot(2,nplt,i+1+nplt)\n",
    "    plt_digit(Xtr_let[ind,:])"
   ]
  },
  {
   "cell_type": "code",
   "execution_count": 100,
   "metadata": {
    "collapsed": true
   },
   "outputs": [],
   "source": [
    "Xtrd=np.reshape(Xtr_dig,(240000,28,28),order='F')\n",
    "Xtsd=np.reshape(Xts_dig,(40000,28,28),order='F')\n",
    "Xtrl=np.reshape(Xtr_let,(124800,28,28),order='F')\n",
    "Xtsl=np.reshape(Xts_let,(20800,28,28),order='F')\n",
    "# TODO: Augment to 32*32 with black margin, deal with 3 channel colors"
   ]
  },
  {
   "cell_type": "code",
   "execution_count": 101,
   "metadata": {},
   "outputs": [
    {
     "data": {
      "image/png": "[encoded data removed]",
      "text/plain": [
       "<matplotlib.figure.Figure at 0x18204ee9e8>"
      ]
     },
     "metadata": {},
     "output_type": "display_data"
    }
   ],
   "source": [
    "plt.subplot(2,2,1)\n",
    "plt.imshow(Xtrd[np.random.randint(1,20000),:,:],cmap='Greys_r')\n",
    "plt.subplot(2,2,2)\n",
    "plt.imshow(Xtsd[np.random.randint(1,20000),:,:],cmap='Greys_r')\n",
    "plt.subplot(2,2,3)\n",
    "plt.imshow(Xtrl[np.random.randint(1,20000),:,:],cmap='Greys_r')\n",
    "plt.subplot(2,2,4)\n",
    "plt.imshow(Xtsl[np.random.randint(1,20000),:,:],cmap='Greys_r')\n",
    "plt.show()"
   ]
  },
  {
   "cell_type": "code",
   "execution_count": 102,
   "metadata": {
    "collapsed": true
   },
   "outputs": [],
   "source": [
    "# dig: 240000 training samples, 40000 test samples loaded\n",
    "# let: 124800 training samples, 20800 test samples loaded\n",
    "# Number of training and test digits and letters\n",
    "ntr_dig = 9000\n",
    "ntr_let = 26000\n",
    "nts_dig = 3000\n",
    "nts_let = 7000\n",
    "# TODO: proper decide the number of samples and the ratio between dig and let\n",
    "\n",
    "# Create sub-sampled training and test data\n",
    "nsamp = Xtr_dig.shape[0]\n",
    "Iperm = np.random.permutation(nsamp)\n",
    "Xtr1_dig = Xtrd[Iperm[:ntr_dig],:,:]\n",
    "ytr1_dig = ytr_dig[Iperm[:ntr_dig]]\n",
    "nsamp = Xts_dig.shape[0]\n",
    "Iperm = np.random.permutation(nsamp)\n",
    "Xts1_dig = Xtsd[Iperm[:nts_dig],:,:]\n",
    "yts1_dig = yts_dig[Iperm[:nts_dig]]\n",
    "nsamp = Xtr_let.shape[0]\n",
    "Iperm = np.random.permutation(nsamp)\n",
    "Xtr1_let = Xtrl[Iperm[:ntr_let],:,:]\n",
    "ytr1_let = ytr_let[Iperm[:ntr_let]]\n",
    "nsamp = Xts_let.shape[0]\n",
    "Iperm = np.random.permutation(nsamp)\n",
    "Xts1_let = Xtsl[Iperm[:nts_let],:,:]\n",
    "yts1_let = yts_let[Iperm[:nts_let]]"
   ]
  },
  {
   "cell_type": "code",
   "execution_count": 103,
   "metadata": {
    "collapsed": true
   },
   "outputs": [],
   "source": [
    "from __future__ import print_function\n",
    "# from keras.datasets import cifar10\n",
    "from keras.preprocessing.image import ImageDataGenerator\n",
    "from keras.models import Sequential\n",
    "from keras.models import load_model #save and load models\n",
    "from keras.layers import Dense, Dropout, Activation, Flatten\n",
    "from keras.layers import Conv2D, MaxPooling2D\n",
    "from keras.layers.normalization import BatchNormalization\n",
    "import keras.backend as K"
   ]
  },
  {
   "cell_type": "code",
   "execution_count": 104,
   "metadata": {
    "collapsed": true
   },
   "outputs": [],
   "source": [
    "ytr2_let=ytr1_let+9\n",
    "yts2_let=yts1_let+9\n",
    "x_train=np.concatenate((Xtr1_dig, Xtr1_let), axis=0)\n",
    "y_train=np.concatenate((ytr1_dig, ytr2_let), axis=0)\n",
    "y_train=y_train.reshape((len(y_train),1))\n",
    "x_test=np.concatenate((Xts1_dig, Xts1_let), axis=0)\n",
    "y_test=np.concatenate((yts1_dig, yts2_let), axis=0)\n",
    "y_test=y_test.reshape((len(y_test),1))\n",
    "x_train = x_train.astype('float32')\n",
    "x_test = x_test.astype('float32')\n",
    "x_train /= 255\n",
    "x_test /= 255\n",
    "x_train=x_train.reshape((ntr_dig+ntr_let,28,28,1))\n",
    "x_test=x_test.reshape((nts_dig+nts_let,28,28,1))"
   ]
  },
  {
   "cell_type": "code",
   "execution_count": 105,
   "metadata": {},
   "outputs": [
    {
     "data": {
      "text/plain": [
       "<matplotlib.image.AxesImage at 0x182f1eb7f0>"
      ]
     },
     "execution_count": 105,
     "metadata": {},
     "output_type": "execute_result"
    },
    {
     "data": {
      "image/png": "[encoded data removed]",
      "text/plain": [
       "<matplotlib.figure.Figure at 0x18204f34a8>"
      ]
     },
     "metadata": {},
     "output_type": "display_data"
    }
   ],
   "source": [
    "myxt=np.zeros((28,28))\n",
    "myxt[:,:]=x_test[np.random.randint(1,25000),:,:,0]\n",
    "plt.imshow(myxt,cmap='Greys_r')"
   ]
  },
  {
   "cell_type": "code",
   "execution_count": 106,
   "metadata": {},
   "outputs": [
    {
     "name": "stdout",
     "output_type": "stream",
     "text": [
      "(35000, 28, 28, 1)\n",
      "35000\n",
      "1\n"
     ]
    }
   ],
   "source": [
    "print(x_train.shape)\n",
    "#print(x_train[233,15:20,15:20])\n",
    "#print(y_train[4990:5050].T)\n",
    "print(y_train.shape[0])\n",
    "print(np.min(ytr1_let))"
   ]
  },
  {
   "cell_type": "code",
   "execution_count": 107,
   "metadata": {},
   "outputs": [
    {
     "name": "stdout",
     "output_type": "stream",
     "text": [
      "Number of classes: 36\n"
     ]
    }
   ],
   "source": [
    "# Convert class vectors to binary class matrices.\n",
    "# TODO: maybe make it different between some upper and lower case?\n",
    "num_classes = 36\n",
    "y_train = keras.utils.to_categorical(y_train, num_classes)\n",
    "y_test = keras.utils.to_categorical(y_test, num_classes)\n",
    "print('Number of classes:', y_train.shape[1])"
   ]
  },
  {
   "cell_type": "code",
   "execution_count": 108,
   "metadata": {
    "collapsed": true
   },
   "outputs": [],
   "source": [
    "batch_size = 64\n",
    "epochs = 8\n",
    "lrate = 0.05\n",
    "decay = lrate/epochs"
   ]
  },
  {
   "cell_type": "code",
   "execution_count": 109,
   "metadata": {
    "collapsed": true
   },
   "outputs": [],
   "source": [
    "# TODO: 36/62 channels?\n",
    "K.clear_session()\n",
    "model = Sequential()\n",
    "model.add(Conv2D(32, (3, 3), \n",
    "                 padding='valid', \n",
    "                 input_shape=x_train.shape[1:],\n",
    "                 activation='relu'))\n",
    "#model.add(BatchNormalization())\n",
    "#model.add(Conv2D(32, (3, 3), padding='valid', activation='relu'))   #+0.01\n",
    "model.add(MaxPooling2D(pool_size=(2, 2)))\n",
    "model.add(BatchNormalization())\n",
    "model.add(Conv2D(32, (3, 3), padding='valid', activation='relu'))\n",
    "model.add(MaxPooling2D(pool_size=(2, 2)))\n",
    "#model.add(Conv2D(28, (3, 3), padding='valid', activation='relu'))   #+0.00\n",
    "#model.add(BatchNormalization())\n",
    "\n",
    "model.add(Flatten())\n",
    "model.add(BatchNormalization())\n",
    "model.add(Dense(512, activation='relu'))\n",
    "model.add(BatchNormalization())\n",
    "#model.add(Dense(62, activation='relu'))   #+0.01\n",
    "#model.add(BatchNormalization())\n",
    "model.add(Dense(num_classes, activation='softmax'))"
   ]
  },
  {
   "cell_type": "code",
   "execution_count": 110,
   "metadata": {},
   "outputs": [
    {
     "name": "stdout",
     "output_type": "stream",
     "text": [
      "_________________________________________________________________\n",
      "Layer (type)                 Output Shape              Param #   \n",
      "=================================================================\n",
      "conv2d_1 (Conv2D)            (None, 26, 26, 32)        320       \n",
      "_________________________________________________________________\n",
      "max_pooling2d_1 (MaxPooling2 (None, 13, 13, 32)        0         \n",
      "_________________________________________________________________\n",
      "batch_normalization_1 (Batch (None, 13, 13, 32)        128       \n",
      "_________________________________________________________________\n",
      "conv2d_2 (Conv2D)            (None, 11, 11, 32)        9248      \n",
      "_________________________________________________________________\n",
      "max_pooling2d_2 (MaxPooling2 (None, 5, 5, 32)          0         \n",
      "_________________________________________________________________\n",
      "flatten_1 (Flatten)          (None, 800)               0         \n",
      "_________________________________________________________________\n",
      "batch_normalization_2 (Batch (None, 800)               3200      \n",
      "_________________________________________________________________\n",
      "dense_1 (Dense)              (None, 512)               410112    \n",
      "_________________________________________________________________\n",
      "batch_normalization_3 (Batch (None, 512)               2048      \n",
      "_________________________________________________________________\n",
      "dense_2 (Dense)              (None, 36)                18468     \n",
      "=================================================================\n",
      "Total params: 443,524\n",
      "Trainable params: 440,836\n",
      "Non-trainable params: 2,688\n",
      "_________________________________________________________________\n",
      "None\n"
     ]
    }
   ],
   "source": [
    "# initiate Adam optimizer\n",
    "opt = keras.optimizers.adam(lr=lrate, decay=decay)\n",
    "\n",
    "# Let's train the model using Adam\n",
    "model.compile(loss='categorical_crossentropy',\n",
    "              optimizer=opt,\n",
    "              metrics=['accuracy'])\n",
    "print(model.summary())"
   ]
  },
  {
   "cell_type": "code",
   "execution_count": 111,
   "metadata": {},
   "outputs": [
    {
     "name": "stdout",
     "output_type": "stream",
     "text": [
      "Train on 35000 samples, validate on 10000 samples\n",
      "Epoch 1/8\n",
      "35000/35000 [==============================] - 49s 1ms/step - loss: 1.0652 - acc: 0.7411 - val_loss: 0.5435 - val_acc: 0.8190\n",
      "Epoch 2/8\n",
      "35000/35000 [==============================] - 47s 1ms/step - loss: 0.4066 - acc: 0.8521 - val_loss: 0.4006 - val_acc: 0.8581\n",
      "Epoch 3/8\n",
      "35000/35000 [==============================] - 47s 1ms/step - loss: 0.3226 - acc: 0.8793 - val_loss: 0.4135 - val_acc: 0.8556\n",
      "Epoch 4/8\n",
      "35000/35000 [==============================] - 47s 1ms/step - loss: 0.2718 - acc: 0.8942 - val_loss: 0.3829 - val_acc: 0.8670\n",
      "Epoch 5/8\n",
      "35000/35000 [==============================] - 47s 1ms/step - loss: 0.2321 - acc: 0.9085 - val_loss: 0.3723 - val_acc: 0.8664\n",
      "Epoch 6/8\n",
      "35000/35000 [==============================] - 47s 1ms/step - loss: 0.2091 - acc: 0.9153 - val_loss: 0.3932 - val_acc: 0.8656\n",
      "Epoch 7/8\n",
      "35000/35000 [==============================] - 48s 1ms/step - loss: 0.1803 - acc: 0.9281 - val_loss: 0.4042 - val_acc: 0.8653\n",
      "Epoch 8/8\n",
      "35000/35000 [==============================] - 48s 1ms/step - loss: 0.1671 - acc: 0.9310 - val_loss: 0.3999 - val_acc: 0.8674\n",
      "Done!\n"
     ]
    }
   ],
   "source": [
    "seed=7\n",
    "k=1\n",
    "# Fit the model\n",
    "np.random.seed(seed)\n",
    "class_weight={0:k*2,1:k*4,2:k,3:k,4:k,5:k,6:k,7:k,8:k,9:k,10:k,11:k,12:k,13:k,14:k,15:k,16:k,17:k,18:k,19:k,20:k,21:k*1.4,\n",
    "              22:k,23:k,24:k,25:k,26:k,27:k,28:k,29:k,30:k,31:k,32:k,33:k,34:k,35:k}\n",
    "hist_basic = model.fit(x_train, y_train,batch_size=batch_size,epochs=epochs,validation_data=(x_test, y_test),shuffle=True,\n",
    "                       #class_weight=class_weight\n",
    "                      )\n",
    "\n",
    "print('Done!')"
   ]
  },
  {
   "cell_type": "code",
   "execution_count": 112,
   "metadata": {
    "collapsed": true
   },
   "outputs": [],
   "source": [
    "model.save(\"emnist_BatchNormalization_32_classwight_manally_k2.h5\")\n",
    "model = load_model(\"emnist_BatchNormalization_32_classwight_manally_k2.h5\")"
   ]
  },
  {
   "cell_type": "code",
   "execution_count": 113,
   "metadata": {},
   "outputs": [
    {
     "name": "stdout",
     "output_type": "stream",
     "text": [
      "[[2.4893074e-10 6.3572810e-12 8.4230848e-13 1.0607520e-12 1.4420394e-10\n",
      "  4.0657096e-13 9.9987924e-01 1.1912428e-14 1.2676164e-11 1.0305839e-12\n",
      "  1.6423507e-09 2.8854958e-09 2.4680200e-09 1.4268894e-11 6.5435281e-15\n",
      "  6.9431830e-12 1.2068289e-04 4.7971875e-13 4.6779414e-10 6.4825402e-13\n",
      "  9.9713883e-12 2.0835880e-09 5.4234868e-17 8.2593674e-16 4.5571717e-11\n",
      "  4.6325975e-13 2.3096451e-09 2.7836501e-15 5.6948266e-12 3.5427387e-14\n",
      "  3.3805809e-11 8.2458031e-15 3.0006694e-13 2.7666894e-16 1.1855140e-12\n",
      "  7.9351510e-14]]\n",
      "6\n",
      "[0. 0. 0. 0. 0. 0. 1. 0. 0. 0. 0. 0. 0. 0. 0. 0. 0. 0. 0. 0. 0. 0. 0. 0.\n",
      " 0. 0. 0. 0. 0. 0. 0. 0. 0. 0. 0. 0.]\n",
      "6\n"
     ]
    },
    {
     "data": {
      "image/png": "[encoded data removed]",
      "text/plain": [
       "<matplotlib.figure.Figure at 0x181d945b38>"
      ]
     },
     "metadata": {},
     "output_type": "display_data"
    }
   ],
   "source": [
    "myn=np.random.randint(1,20000)\n",
    "myxtr=np.array(x_train[myn,:,:,:])\n",
    "myxtrp=np.reshape(myxtr,(28,28))\n",
    "plt.imshow(myxtrp,cmap='Greys_r')\n",
    "myxtr=np.reshape(myxtr,(1,28,28,1))\n",
    "preds = model.predict(myxtr)\n",
    "print(preds)\n",
    "print(np.argmax(preds))\n",
    "print(y_train[myn])\n",
    "if np.argmax(y_train[myn])<10:\n",
    "    ascii=48+np.argmax(y_train[myn])\n",
    "else:\n",
    "    ascii=87+np.argmax(y_train[myn])\n",
    "print(chr(ascii))"
   ]
  },
  {
   "cell_type": "code",
   "execution_count": 114,
   "metadata": {},
   "outputs": [
    {
     "name": "stdout",
     "output_type": "stream",
     "text": [
      "Accuaracy = 0.867400\n"
     ]
    }
   ],
   "source": [
    "# confusion matrix\n",
    "yhat=model.predict(x_test)\n",
    "yhatp=np.argmax(yhat,axis=1)\n",
    "ytsp=np.argmax(y_test,axis=1)\n",
    "acc = np.mean(yhatp == ytsp)\n",
    "print('Accuaracy = {0:f}'.format(acc))"
   ]
  },
  {
   "cell_type": "code",
   "execution_count": 115,
   "metadata": {},
   "outputs": [
    {
     "name": "stdout",
     "output_type": "stream",
     "text": [
      "[[0.37  0.    0.    ... 0.    0.    0.   ]\n",
      " [0.    0.726 0.    ... 0.    0.    0.   ]\n",
      " [0.    0.    0.89  ... 0.    0.    0.071]\n",
      " ...\n",
      " [0.    0.    0.    ... 0.962 0.015 0.   ]\n",
      " [0.    0.    0.    ... 0.027 0.827 0.   ]\n",
      " [0.    0.    0.103 ... 0.004 0.    0.878]]\n"
     ]
    },
    {
     "data": {
      "text/plain": [
       "<matplotlib.colorbar.Colorbar at 0x181d0a16d8>"
      ]
     },
     "execution_count": 115,
     "metadata": {},
     "output_type": "execute_result"
    },
    {
     "data": {
      "image/png": "[encoded data removed]",
      "text/plain": [
       "<matplotlib.figure.Figure at 0x182f199fd0>"
      ]
     },
     "metadata": {},
     "output_type": "display_data"
    }
   ],
   "source": [
    "from sklearn.metrics import confusion_matrix\n",
    "from sklearn.preprocessing import normalize\n",
    "\n",
    "C = confusion_matrix(ytsp,yhatp)\n",
    "\n",
    "# Normalize the confusion matrix\n",
    "#Csum = np.sum(C,1)\n",
    "#C = C / Csum[None,:]\n",
    "C = normalize(C, norm='l1', axis=1)\n",
    "\n",
    "# Print the confusion matrix\n",
    "print(np.array_str(C, precision=3, suppress_small=True))\n",
    "plt.figure(figsize=(20, 10)) \n",
    "plt.imshow(C, interpolation='none')\n",
    "plt.colorbar()"
   ]
  },
  {
   "cell_type": "code",
   "execution_count": 116,
   "metadata": {},
   "outputs": [
    {
     "name": "stdout",
     "output_type": "stream",
     "text": [
      "[0.37       0.72627737 0.89032258 0.9704797  0.90734824 0.84984985\n",
      " 0.93729373 0.98130841 0.94181818 0.88333333 0.90421456 0.89084507\n",
      " 0.93548387 0.89811321 0.97183099 0.94197952 0.72490706 0.91304348\n",
      " 0.66914498 0.91666667 0.94604317 0.47808765 0.97416974 0.90875912\n",
      " 0.82051282 0.94941634 0.69921875 0.95121951 0.9        0.93801653\n",
      " 0.91911765 0.88321168 0.93726937 0.96183206 0.82745098 0.8778626 ]\n",
      "(array([ 0,  1, 16, 18, 21, 26]),)\n"
     ]
    }
   ],
   "source": [
    "Cd=C.diagonal()\n",
    "print(Cd)\n",
    "print(np.where(Cd<0.8))"
   ]
  },
  {
   "cell_type": "code",
   "execution_count": null,
   "metadata": {
    "collapsed": true
   },
   "outputs": [],
   "source": []
  }
 ],
 "metadata": {
  "kernelspec": {
   "display_name": "Python 3",
   "language": "python",
   "name": "python3"
  },
  "language_info": {
   "codemirror_mode": {
    "name": "ipython",
    "version": 3
   },
   "file_extension": ".py",
   "mimetype": "text/x-python",
   "name": "python",
   "nbconvert_exporter": "python",
   "pygments_lexer": "ipython3",
   "version": "3.6.3"
  }
 },
 "nbformat": 4,
 "nbformat_minor": 2
}
