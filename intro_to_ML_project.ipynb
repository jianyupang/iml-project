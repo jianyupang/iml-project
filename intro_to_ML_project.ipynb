{
 "cells": [
  {
   "cell_type": "markdown",
   "metadata": {},
   "source": [
    "# load emnist samples and adjust data"
   ]
  },
  {
   "cell_type": "code",
   "execution_count": 155,
   "metadata": {
    "collapsed": true
   },
   "outputs": [],
   "source": [
    "import keras\n",
    "import numpy as np\n",
    "import matplotlib.pyplot as plt\n",
    "%matplotlib inline\n",
    "#from sklearn import linear_model, preprocessing\n",
    "#from matplotlib import pyplot\n",
    "#from scipy import misc"
   ]
  },
  {
   "cell_type": "code",
   "execution_count": 156,
   "metadata": {
    "collapsed": true
   },
   "outputs": [],
   "source": [
    "import scipy.io\n",
    "def load_emnist(file_path='emnist-digits.mat'):\n",
    "    \"\"\"\n",
    "    Loads training and test data with ntr and nts training and test samples\n",
    "    The `file_path` is the location of the `eminst-balanced.mat`.\n",
    "    \"\"\"    \n",
    "    \n",
    "    # Load the MATLAB file\n",
    "    mat = scipy.io.loadmat(file_path)\n",
    "    \n",
    "    # Get the training data\n",
    "    Xtr = mat['dataset'][0][0][0][0][0][0][:]\n",
    "    ntr = Xtr.shape[0]\n",
    "    ytr = mat['dataset'][0][0][0][0][0][1][:].reshape(ntr).astype(int)\n",
    "    \n",
    "    # Get the test data\n",
    "    Xts = mat['dataset'][0][0][1][0][0][0][:]\n",
    "    nts = Xts.shape[0]\n",
    "    yts = mat['dataset'][0][0][1][0][0][1][:].reshape(nts).astype(int)\n",
    "    \n",
    "    print(\"%d training samples, %d test samples loaded\" % (ntr, nts))\n",
    "\n",
    "    return [Xtr, Xts, ytr, yts]"
   ]
  },
  {
   "cell_type": "code",
   "execution_count": 157,
   "metadata": {},
   "outputs": [
    {
     "name": "stdout",
     "output_type": "stream",
     "text": [
      "240000 training samples, 40000 test samples loaded\n",
      "124800 training samples, 20800 test samples loaded\n"
     ]
    }
   ],
   "source": [
    "Xtr_dig, Xts_dig, ytr_dig, yts_dig = load_emnist()\n",
    "Xtr_let, Xts_let, ytr_let, yts_let = load_emnist(file_path='emnist-letters.mat')"
   ]
  },
  {
   "cell_type": "code",
   "execution_count": 158,
   "metadata": {},
   "outputs": [
    {
     "data": {
      "image/png": "[encoded data removed]",
      "text/plain": [
       "<matplotlib.figure.Figure at 0x26c01172f28>"
      ]
     },
     "metadata": {},
     "output_type": "display_data"
    }
   ],
   "source": [
    "def plt_digit(x,y=None):\n",
    "    nrow = 28\n",
    "    ncol = 28\n",
    "    xsq = x.reshape((nrow,ncol))\n",
    "    plt.imshow(xsq.T,  cmap='Greys_r')\n",
    "    plt.xticks([])\n",
    "    plt.yticks([])    \n",
    "    if y != None:\n",
    "        plt.title('%d' % y)     \n",
    "        \n",
    "nplt = 8\n",
    "nsamp = Xtr_dig.shape[0]\n",
    "Iperm = np.random.permutation(nsamp)\n",
    "\n",
    "# Plot the images using the subplot command\n",
    "for i in range(nplt):\n",
    "    ind = Iperm[i]\n",
    "    plt.subplot(2,nplt,i+1)\n",
    "    plt_digit(Xtr_dig[ind,:])\n",
    "    \n",
    "nplt = 8\n",
    "nsamp = Xtr_let.shape[0]\n",
    "Iperm = np.random.permutation(nsamp)\n",
    "\n",
    "# Plot the images using the subplot command\n",
    "for i in range(nplt):\n",
    "    ind = Iperm[i]\n",
    "    plt.subplot(2,nplt,i+1+nplt)\n",
    "    plt_digit(Xtr_let[ind,:])"
   ]
  },
  {
   "cell_type": "code",
   "execution_count": 159,
   "metadata": {
    "collapsed": true
   },
   "outputs": [],
   "source": [
    "Xtrd=np.reshape(Xtr_dig,(240000,28,28),order='F')\n",
    "Xtsd=np.reshape(Xts_dig,(40000,28,28),order='F')\n",
    "Xtrl=np.reshape(Xtr_let,(124800,28,28),order='F')\n",
    "Xtsl=np.reshape(Xts_let,(20800,28,28),order='F')\n",
    "# TODO: Augment to 32*32 with black margin, deal with 3 channel colors\n"
   ]
  },
  {
   "cell_type": "code",
   "execution_count": 160,
   "metadata": {
    "scrolled": true
   },
   "outputs": [
    {
     "data": {
      "image/png": "[encoded data removed]",
      "text/plain": [
       "<matplotlib.figure.Figure at 0x26c350b6f98>"
      ]
     },
     "metadata": {},
     "output_type": "display_data"
    }
   ],
   "source": [
    "plt.subplot(2,2,1)\n",
    "plt.imshow(Xtrd[np.random.randint(1,20000),:,:],cmap='Greys_r')\n",
    "plt.subplot(2,2,2)\n",
    "plt.imshow(Xtsd[np.random.randint(1,20000),:,:],cmap='Greys_r')\n",
    "plt.subplot(2,2,3)\n",
    "plt.imshow(Xtrl[np.random.randint(1,20000),:,:],cmap='Greys_r')\n",
    "plt.subplot(2,2,4)\n",
    "plt.imshow(Xtsl[np.random.randint(1,20000),:,:],cmap='Greys_r')\n",
    "plt.show()"
   ]
  },
  {
   "cell_type": "code",
   "execution_count": 161,
   "metadata": {
    "collapsed": true
   },
   "outputs": [],
   "source": [
    "# dig: 240000 training samples, 40000 test samples loaded\n",
    "# let: 124800 training samples, 20800 test samples loaded\n",
    "# Number of training and test digits and letters\n",
    "ntr_dig = 5000\n",
    "ntr_let = 20000\n",
    "nts_dig = 5000\n",
    "nts_let = 20000\n",
    "# TODO: proper decide the number of samples and the ratio between dig and let\n",
    "\n",
    "# Create sub-sampled training and test data\n",
    "nsamp = Xtr_dig.shape[0]\n",
    "Iperm = np.random.permutation(nsamp)\n",
    "Xtr1_dig = Xtrd[Iperm[:ntr_dig],:,:]\n",
    "ytr1_dig = ytr_dig[Iperm[:ntr_dig]]\n",
    "nsamp = Xts_dig.shape[0]\n",
    "Iperm = np.random.permutation(nsamp)\n",
    "Xts1_dig = Xtsd[Iperm[:nts_dig],:,:]\n",
    "yts1_dig = yts_dig[Iperm[:nts_dig]]\n",
    "nsamp = Xtr_let.shape[0]\n",
    "Iperm = np.random.permutation(nsamp)\n",
    "Xtr1_let = Xtrl[Iperm[:ntr_let],:,:]\n",
    "ytr1_let = ytr_let[Iperm[:ntr_let]]\n",
    "nsamp = Xts_let.shape[0]\n",
    "Iperm = np.random.permutation(nsamp)\n",
    "Xts1_let = Xtsl[Iperm[:nts_let],:,:]\n",
    "yts1_let = yts_let[Iperm[:nts_let]]"
   ]
  },
  {
   "cell_type": "code",
   "execution_count": 162,
   "metadata": {
    "scrolled": true
   },
   "outputs": [
    {
     "name": "stdout",
     "output_type": "stream",
     "text": [
      "(20000, 28, 28)\n",
      "[[244 235  79   0   0]\n",
      " [ 59 244 232  36   0]\n",
      " [  1  95 250 207  10]\n",
      " [  0   5 132 252 158]\n",
      " [  0   0  22 220 222]]\n",
      "[10  5 11 ... 24  5 15]\n"
     ]
    }
   ],
   "source": [
    "print(Xtr1_let.shape)\n",
    "print(Xtr1_let[233,15:20,15:20])\n",
    "print(ytr1_let)"
   ]
  },
  {
   "cell_type": "markdown",
   "metadata": {},
   "source": [
    "## training keras model"
   ]
  },
  {
   "cell_type": "code",
   "execution_count": 163,
   "metadata": {
    "collapsed": true
   },
   "outputs": [],
   "source": [
    "from __future__ import print_function\n",
    "# from keras.datasets import cifar10\n",
    "from keras.preprocessing.image import ImageDataGenerator\n",
    "from keras.models import Sequential\n",
    "from keras.models import load_model #save and load models\n",
    "from keras.layers import Dense, Dropout, Activation, Flatten\n",
    "from keras.layers import Conv2D, MaxPooling2D\n",
    "from keras.layers.normalization import BatchNormalization\n",
    "import keras.backend as K"
   ]
  },
  {
   "cell_type": "code",
   "execution_count": 164,
   "metadata": {
    "collapsed": true
   },
   "outputs": [],
   "source": [
    "ytr2_let=ytr1_let+9\n",
    "yts2_let=yts1_let+9\n",
    "x_train=np.concatenate((Xtr1_dig, Xtr1_let), axis=0)\n",
    "y_train=np.concatenate((ytr1_dig, ytr2_let), axis=0)\n",
    "y_train=y_train.reshape((len(y_train),1))\n",
    "x_test=np.concatenate((Xts1_dig, Xts1_let), axis=0)\n",
    "y_test=np.concatenate((yts1_dig, yts2_let), axis=0)\n",
    "y_test=y_test.reshape((len(y_test),1))\n",
    "x_train = x_train.astype('float32')\n",
    "x_test = x_test.astype('float32')\n",
    "x_train /= 255\n",
    "x_test /= 255\n",
    "x_train=x_train.reshape((ntr_dig+ntr_let,28,28,1))\n",
    "x_test=x_test.reshape((nts_dig+nts_let,28,28,1))"
   ]
  },
  {
   "cell_type": "code",
   "execution_count": 165,
   "metadata": {
    "scrolled": true
   },
   "outputs": [
    {
     "data": {
      "text/plain": [
       "<matplotlib.image.AxesImage at 0x26c0af12588>"
      ]
     },
     "execution_count": 165,
     "metadata": {},
     "output_type": "execute_result"
    },
    {
     "data": {
      "image/png": "[encoded data removed]",
      "text/plain": [
       "<matplotlib.figure.Figure at 0x26c35c517b8>"
      ]
     },
     "metadata": {},
     "output_type": "display_data"
    }
   ],
   "source": [
    "myxt=np.zeros((28,28))\n",
    "myxt[:,:]=x_test[np.random.randint(1,25000),:,:,0]\n",
    "plt.imshow(myxt,cmap='Greys_r')"
   ]
  },
  {
   "cell_type": "code",
   "execution_count": 166,
   "metadata": {
    "scrolled": true
   },
   "outputs": [
    {
     "name": "stdout",
     "output_type": "stream",
     "text": [
      "(25000, 28, 28, 1)\n",
      "25000\n",
      "1\n"
     ]
    }
   ],
   "source": [
    "print(x_train.shape)\n",
    "#print(x_train[233,15:20,15:20])\n",
    "#print(y_train[4990:5050].T)\n",
    "print(y_train.shape[0])\n",
    "print(np.min(ytr1_let))"
   ]
  },
  {
   "cell_type": "code",
   "execution_count": 167,
   "metadata": {},
   "outputs": [
    {
     "name": "stdout",
     "output_type": "stream",
     "text": [
      "Number of classes: 36\n"
     ]
    }
   ],
   "source": [
    "# Convert class vectors to binary class matrices.\n",
    "# TODO: maybe make it different between some upper and lower case?\n",
    "num_classes = 36\n",
    "y_train = keras.utils.to_categorical(y_train, num_classes)\n",
    "y_test = keras.utils.to_categorical(y_test, num_classes)\n",
    "print('Number of classes:', y_train.shape[1])"
   ]
  },
  {
   "cell_type": "code",
   "execution_count": 168,
   "metadata": {
    "collapsed": true
   },
   "outputs": [],
   "source": [
    "batch_size = 64\n",
    "epochs = 8\n",
    "lrate = 0.05\n",
    "decay = lrate/epochs"
   ]
  },
  {
   "cell_type": "code",
   "execution_count": 178,
   "metadata": {
    "collapsed": true,
    "scrolled": false
   },
   "outputs": [],
   "source": [
    "# TODO: 36/62 channels?\n",
    "K.clear_session()\n",
    "model = Sequential()\n",
    "model.add(Conv2D(32, (3, 3), \n",
    "                 padding='valid', \n",
    "                 input_shape=x_train.shape[1:],\n",
    "                 activation='relu'))\n",
    "#model.add(BatchNormalization())\n",
    "#model.add(Conv2D(32, (3, 3), padding='valid', activation='relu'))   #+0.01\n",
    "model.add(MaxPooling2D(pool_size=(2, 2)))\n",
    "model.add(BatchNormalization())\n",
    "model.add(Conv2D(32, (3, 3), padding='valid', activation='relu'))\n",
    "model.add(MaxPooling2D(pool_size=(2, 2)))\n",
    "#model.add(Conv2D(28, (3, 3), padding='valid', activation='relu'))   #+0.00\n",
    "#model.add(BatchNormalization())\n",
    "\n",
    "model.add(Flatten())\n",
    "model.add(BatchNormalization())\n",
    "model.add(Dense(512, activation='relu'))\n",
    "model.add(BatchNormalization())\n",
    "#model.add(Dense(62, activation='relu'))   #+0.01\n",
    "#model.add(BatchNormalization())\n",
    "model.add(Dense(num_classes, activation='softmax'))"
   ]
  },
  {
   "cell_type": "code",
   "execution_count": 179,
   "metadata": {},
   "outputs": [
    {
     "name": "stdout",
     "output_type": "stream",
     "text": [
      "_________________________________________________________________\n",
      "Layer (type)                 Output Shape              Param #   \n",
      "=================================================================\n",
      "conv2d_1 (Conv2D)            (None, 26, 26, 32)        320       \n",
      "_________________________________________________________________\n",
      "max_pooling2d_1 (MaxPooling2 (None, 13, 13, 32)        0         \n",
      "_________________________________________________________________\n",
      "batch_normalization_1 (Batch (None, 13, 13, 32)        128       \n",
      "_________________________________________________________________\n",
      "conv2d_2 (Conv2D)            (None, 11, 11, 32)        9248      \n",
      "_________________________________________________________________\n",
      "max_pooling2d_2 (MaxPooling2 (None, 5, 5, 32)          0         \n",
      "_________________________________________________________________\n",
      "flatten_1 (Flatten)          (None, 800)               0         \n",
      "_________________________________________________________________\n",
      "batch_normalization_2 (Batch (None, 800)               3200      \n",
      "_________________________________________________________________\n",
      "dense_1 (Dense)              (None, 512)               410112    \n",
      "_________________________________________________________________\n",
      "batch_normalization_3 (Batch (None, 512)               2048      \n",
      "_________________________________________________________________\n",
      "dense_2 (Dense)              (None, 36)                18468     \n",
      "=================================================================\n",
      "Total params: 443,524\n",
      "Trainable params: 440,836\n",
      "Non-trainable params: 2,688\n",
      "_________________________________________________________________\n",
      "None\n"
     ]
    }
   ],
   "source": [
    "# initiate Adam optimizer\n",
    "opt = keras.optimizers.adam(lr=lrate, decay=decay)\n",
    "\n",
    "# Let's train the model using Adam\n",
    "model.compile(loss='categorical_crossentropy',\n",
    "              optimizer=opt,\n",
    "              metrics=['accuracy'])\n",
    "print(model.summary())"
   ]
  },
  {
   "cell_type": "code",
   "execution_count": 180,
   "metadata": {},
   "outputs": [
    {
     "name": "stdout",
     "output_type": "stream",
     "text": [
      "Train on 25000 samples, validate on 25000 samples\n",
      "Epoch 1/8\n",
      "25000/25000 [==============================] - 40s 2ms/step - loss: 0.9908 - acc: 0.6940 - val_loss: 0.5864 - val_acc: 0.8010\n",
      "Epoch 2/8\n",
      "25000/25000 [==============================] - 40s 2ms/step - loss: 0.3579 - acc: 0.8215 - val_loss: 0.4782 - val_acc: 0.8336\n",
      "Epoch 3/8\n",
      "25000/25000 [==============================] - 38s 2ms/step - loss: 0.2621 - acc: 0.8573 - val_loss: 0.4304 - val_acc: 0.8532\n",
      "Epoch 4/8\n",
      "25000/25000 [==============================] - 38s 2ms/step - loss: 0.2044 - acc: 0.8775 - val_loss: 0.4136 - val_acc: 0.8568\n",
      "Epoch 5/8\n",
      "25000/25000 [==============================] - 38s 2ms/step - loss: 0.1645 - acc: 0.8938 - val_loss: 0.4487 - val_acc: 0.8536\n",
      "Epoch 6/8\n",
      "25000/25000 [==============================] - 38s 2ms/step - loss: 0.1418 - acc: 0.9043 - val_loss: 0.4428 - val_acc: 0.8581\n",
      "Epoch 7/8\n",
      "25000/25000 [==============================] - 39s 2ms/step - loss: 0.1229 - acc: 0.9120 - val_loss: 0.4422 - val_acc: 0.8568\n",
      "Epoch 8/8\n",
      "25000/25000 [==============================] - 38s 2ms/step - loss: 0.1046 - acc: 0.9211 - val_loss: 0.4303 - val_acc: 0.8631\n",
      "Done!\n"
     ]
    }
   ],
   "source": [
    "seed=7\n",
    "# Fit the model\n",
    "np.random.seed(seed)\n",
    "class_weight={0:1/3,1:1/3,2:1/2,3:1,4:1,5:1,6:1,7:1,8:1,9:1,10:1,11:1,12:1,13:1,14:1,15:1,16:1/2,17:1,18:1/3,19:1,20:1,21:1/3,\n",
    "              22:1,23:1,24:1/3,25:1,26:1/3,27:1,28:1,29:1,30:1,31:1,32:1,33:1,34:1,35:1}\n",
    "hist_basic = model.fit(x_train, y_train,batch_size=batch_size,epochs=epochs,validation_data=(x_test, y_test),shuffle=True,\n",
    "                       #class_weight=class_weight\n",
    "                      )\n",
    "\n",
    "print('Done!')"
   ]
  },
  {
   "cell_type": "code",
   "execution_count": 181,
   "metadata": {
    "collapsed": true
   },
   "outputs": [],
   "source": [
    "model.save(\"emnist_BatchNormalization_32_classwight.h5\")\n",
    "model = load_model(\"emnist_BatchNormalization_32_classwight.h5\")"
   ]
  },
  {
   "cell_type": "markdown",
   "metadata": {},
   "source": [
    "## prediction based on the model"
   ]
  },
  {
   "cell_type": "code",
   "execution_count": 182,
   "metadata": {
    "scrolled": false
   },
   "outputs": [
    {
     "name": "stdout",
     "output_type": "stream",
     "text": [
      "[[1.12145654e-14 1.44880962e-16 3.92653827e-18 2.00784841e-22\n",
      "  3.89173946e-15 1.89623090e-18 5.96896732e-14 1.10028430e-17\n",
      "  1.34993808e-18 7.95798836e-16 3.69854185e-13 2.35745257e-16\n",
      "  3.38436747e-20 1.39846177e-15 1.78409427e-15 8.08638067e-19\n",
      "  1.49202471e-17 2.14294251e-12 1.89859343e-15 1.98759046e-13\n",
      "  8.24732555e-17 5.07181729e-15 2.19316996e-13 1.75816595e-09\n",
      "  2.29939243e-16 2.70283264e-16 8.56351326e-15 5.47827580e-15\n",
      "  1.22409506e-15 2.89955678e-19 1.88969632e-10 7.55593810e-10\n",
      "  1.00000000e+00 5.91509312e-16 1.48921151e-15 6.66925355e-20]]\n",
      "32\n",
      "[0. 0. 0. 0. 0. 0. 0. 0. 0. 0. 0. 0. 0. 0. 0. 0. 0. 0. 0. 0. 0. 0. 0. 0.\n",
      " 0. 0. 0. 0. 0. 0. 0. 0. 1. 0. 0. 0.]\n",
      "w\n"
     ]
    },
    {
     "data": {
      "image/png": "[encoded data removed]",
      "text/plain": [
       "<matplotlib.figure.Figure at 0x26c003951d0>"
      ]
     },
     "metadata": {},
     "output_type": "display_data"
    }
   ],
   "source": [
    "myn=np.random.randint(1,20000)\n",
    "myxtr=np.array(x_train[myn,:,:,:])\n",
    "myxtrp=np.reshape(myxtr,(28,28))\n",
    "plt.imshow(myxtrp,cmap='Greys_r')\n",
    "myxtr=np.reshape(myxtr,(1,28,28,1))\n",
    "preds = model.predict(myxtr)\n",
    "print(preds)\n",
    "print(np.argmax(preds))\n",
    "print(y_train[myn])\n",
    "if np.argmax(y_train[myn])<10:\n",
    "    ascii=48+np.argmax(y_train[myn])\n",
    "else:\n",
    "    ascii=87+np.argmax(y_train[myn])\n",
    "print(chr(ascii))"
   ]
  },
  {
   "cell_type": "code",
   "execution_count": 183,
   "metadata": {},
   "outputs": [],
   "source": [
    "# confusion matrix\n",
    "yhat=model.predict(x_test)"
   ]
  },
  {
   "cell_type": "code",
   "execution_count": 184,
   "metadata": {},
   "outputs": [
    {
     "name": "stdout",
     "output_type": "stream",
     "text": [
      "Accuaracy = 0.863120\n"
     ]
    }
   ],
   "source": [
    "yhatp=np.argmax(yhat,axis=1)\n",
    "ytsp=np.argmax(y_test,axis=1)\n",
    "acc = np.mean(yhatp == ytsp)\n",
    "print('Accuaracy = {0:f}'.format(acc))"
   ]
  },
  {
   "cell_type": "code",
   "execution_count": 185,
   "metadata": {},
   "outputs": [
    {
     "name": "stdout",
     "output_type": "stream",
     "text": [
      "[[0.363 0.    0.    ... 0.    0.    0.   ]\n",
      " [0.    0.069 0.    ... 0.    0.    0.   ]\n",
      " [0.    0.    0.819 ... 0.    0.    0.118]\n",
      " ...\n",
      " [0.    0.    0.003 ... 0.92  0.025 0.001]\n",
      " [0.    0.    0.    ... 0.006 0.92  0.001]\n",
      " [0.    0.    0.06  ... 0.    0.    0.924]]\n"
     ]
    },
    {
     "name": "stderr",
     "output_type": "stream",
     "text": [
      "C:\\Program Files\\Anaconda3\\lib\\site-packages\\sklearn\\utils\\validation.py:429: DataConversionWarning: Data with input dtype int32 was converted to float64 by the normalize function.\n",
      "  warnings.warn(msg, _DataConversionWarning)\n"
     ]
    },
    {
     "data": {
      "text/plain": [
       "<matplotlib.colorbar.Colorbar at 0x26c01f857f0>"
      ]
     },
     "execution_count": 185,
     "metadata": {},
     "output_type": "execute_result"
    },
    {
     "data": {
      "image/png": "[encoded data removed]",
      "text/plain": [
       "<matplotlib.figure.Figure at 0x26c64a0d240>"
      ]
     },
     "metadata": {},
     "output_type": "display_data"
    }
   ],
   "source": [
    "from sklearn.metrics import confusion_matrix\n",
    "from sklearn.preprocessing import normalize\n",
    "\n",
    "C = confusion_matrix(ytsp,yhatp)\n",
    "\n",
    "# Normalize the confusion matrix\n",
    "#Csum = np.sum(C,1)\n",
    "#C = C / Csum[None,:]\n",
    "C = normalize(C, norm='l1', axis=1)\n",
    "\n",
    "# Print the confusion matrix\n",
    "print(np.array_str(C, precision=3, suppress_small=True))\n",
    "plt.imshow(C, interpolation='none')\n",
    "plt.colorbar()"
   ]
  },
  {
   "cell_type": "code",
   "execution_count": 186,
   "metadata": {},
   "outputs": [
    {
     "name": "stdout",
     "output_type": "stream",
     "text": [
      "[0.36345382 0.06896552 0.81853282 0.95039683 0.89026915 0.85416667\n",
      " 0.91497976 0.98189135 0.88510638 0.89126214 0.90588235 0.88989637\n",
      " 0.96484375 0.92238034 0.91937581 0.95150721 0.7406932  0.93782383\n",
      " 0.80471822 0.89336801 0.94480946 0.59687906 0.96358908 0.93628088\n",
      " 0.81558442 0.98702983 0.56031128 0.92406692 0.93472585 0.94025974\n",
      " 0.9452412  0.89507772 0.95708713 0.92046936 0.91979301 0.92428198]\n",
      "(array([ 0,  1, 16, 21, 26], dtype=int64),)\n"
     ]
    }
   ],
   "source": [
    "Cd=C.diagonal()\n",
    "print(Cd)\n",
    "print(np.where(Cd<0.8))"
   ]
  },
  {
   "cell_type": "code",
   "execution_count": null,
   "metadata": {
    "collapsed": true
   },
   "outputs": [],
   "source": []
  }
 ],
 "metadata": {
  "kernelspec": {
   "display_name": "Python 3",
   "language": "python",
   "name": "python3"
  },
  "language_info": {
   "codemirror_mode": {
    "name": "ipython",
    "version": 3
   },
   "file_extension": ".py",
   "mimetype": "text/x-python",
   "name": "python",
   "nbconvert_exporter": "python",
   "pygments_lexer": "ipython3",
   "version": "3.6.1"
  }
 },
 "nbformat": 4,
 "nbformat_minor": 2
}
