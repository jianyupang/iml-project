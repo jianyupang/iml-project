{
 "cells": [
  {
   "cell_type": "code",
   "execution_count": 1,
   "metadata": {
    "collapsed": true
   },
   "outputs": [],
   "source": [
    "# load emnist samples and adjust data"
   ]
  },
  {
   "cell_type": "code",
   "execution_count": 2,
   "metadata": {},
   "outputs": [
    {
     "name": "stderr",
     "output_type": "stream",
     "text": [
      "/anaconda3/lib/python3.6/site-packages/h5py/__init__.py:34: FutureWarning: Conversion of the second argument of issubdtype from `float` to `np.floating` is deprecated. In future, it will be treated as `np.float64 == np.dtype(float).type`.\n",
      "  from ._conv import register_converters as _register_converters\n",
      "Using TensorFlow backend.\n"
     ]
    }
   ],
   "source": [
    "import keras\n",
    "import numpy as np\n",
    "import matplotlib.pyplot as plt\n",
    "%matplotlib inline"
   ]
  },
  {
   "cell_type": "code",
   "execution_count": 3,
   "metadata": {
    "collapsed": true
   },
   "outputs": [],
   "source": [
    "import scipy.io\n",
    "def load_emnist(file_path='emnist-bymerge.mat'):\n",
    "    \"\"\"\n",
    "    Loads training and test data with ntr and nts training and test samples\n",
    "    The `file_path` is the location of the `eminst-balanced.mat`.\n",
    "    \"\"\"    \n",
    "    \n",
    "    # Load the MATLAB file\n",
    "    mat = scipy.io.loadmat(file_path)\n",
    "    \n",
    "    # Get the training data\n",
    "    Xtr = mat['dataset'][0][0][0][0][0][0][:]\n",
    "    ntr = Xtr.shape[0]\n",
    "    ytr = mat['dataset'][0][0][0][0][0][1][:].reshape(ntr).astype(int)\n",
    "    \n",
    "    # Get the test data\n",
    "    Xts = mat['dataset'][0][0][1][0][0][0][:]\n",
    "    nts = Xts.shape[0]\n",
    "    yts = mat['dataset'][0][0][1][0][0][1][:].reshape(nts).astype(int)\n",
    "    \n",
    "    print(\"%d training samples, %d test samples loaded\" % (ntr, nts))\n",
    "\n",
    "    return [Xtr, Xts, ytr, yts]"
   ]
  },
  {
   "cell_type": "code",
   "execution_count": 4,
   "metadata": {},
   "outputs": [
    {
     "name": "stdout",
     "output_type": "stream",
     "text": [
      "697932 training samples, 116323 test samples loaded\n"
     ]
    }
   ],
   "source": [
    "Xtr, Xts, ytr, yts = load_emnist()"
   ]
  },
  {
   "cell_type": "code",
   "execution_count": 5,
   "metadata": {},
   "outputs": [
    {
     "name": "stdout",
     "output_type": "stream",
     "text": [
      "(697932, 784) (116323, 784) (697932,) (116323,)\n"
     ]
    }
   ],
   "source": [
    "print(Xtr.shape,Xts.shape,ytr.shape,yts.shape)"
   ]
  },
  {
   "cell_type": "code",
   "execution_count": 6,
   "metadata": {
    "collapsed": true
   },
   "outputs": [],
   "source": [
    "Xtrd=np.reshape(Xtr,(697932,28,28),order='F')\n",
    "Xtsd=np.reshape(Xts,(116323,28,28),order='F')"
   ]
  },
  {
   "cell_type": "code",
   "execution_count": 7,
   "metadata": {},
   "outputs": [
    {
     "data": {
      "text/plain": [
       "<matplotlib.image.AxesImage at 0x10fbfb2b0>"
      ]
     },
     "execution_count": 7,
     "metadata": {},
     "output_type": "execute_result"
    },
    {
     "data": {
      "image/png": "[encoded data removed]",
      "text/plain": [
       "<matplotlib.figure.Figure at 0x181f904470>"
      ]
     },
     "metadata": {},
     "output_type": "display_data"
    }
   ],
   "source": [
    "plt.subplot(1,2,1)\n",
    "plt.imshow(Xtrd[np.random.randint(1,20000),:,:],cmap='Greys_r')\n",
    "plt.subplot(1,2,2)\n",
    "plt.imshow(Xtsd[np.random.randint(1,10000),:,:],cmap='Greys_r')"
   ]
  },
  {
   "cell_type": "code",
   "execution_count": 8,
   "metadata": {
    "collapsed": true
   },
   "outputs": [],
   "source": [
    "ntr = 46000\n",
    "nts = 10000\n",
    "\n",
    "# TODO: proper decide the number of samples and the ratio between dig and let\n",
    "\n",
    "# Create sub-sampled training and test data\n",
    "nsamp = Xtr.shape[0]\n",
    "Iperm = np.random.permutation(nsamp)\n",
    "Xtr1 = Xtrd[Iperm[:ntr],:,:]\n",
    "ytr1 = ytr[Iperm[:ntr]]\n",
    "nsamp = Xts.shape[0]\n",
    "Iperm = np.random.permutation(nsamp)\n",
    "Xts1 = Xtsd[Iperm[:nts],:,:]\n",
    "yts1 = yts[Iperm[:nts]]"
   ]
  },
  {
   "cell_type": "code",
   "execution_count": 9,
   "metadata": {},
   "outputs": [
    {
     "name": "stdout",
     "output_type": "stream",
     "text": [
      "(46000, 28, 28)\n",
      "[[234  95   7   0   0]\n",
      " [253 202  32   0   0]\n",
      " [254 217  39   0   0]\n",
      " [254 233  82   2   0]\n",
      " [252 249 125   4   0]]\n",
      "[ 3  9  9 ... 42  1  1]\n"
     ]
    }
   ],
   "source": [
    "print(Xtr1.shape)\n",
    "print(Xtr1[233,15:20,15:20])\n",
    "print(ytr1)"
   ]
  },
  {
   "cell_type": "code",
   "execution_count": 10,
   "metadata": {
    "collapsed": true
   },
   "outputs": [],
   "source": [
    "from __future__ import print_function\n",
    "# from keras.datasets import cifar10\n",
    "from keras.preprocessing.image import ImageDataGenerator\n",
    "from keras.models import Sequential\n",
    "from keras.models import load_model #save and load models\n",
    "from keras.layers import Dense, Dropout, Activation, Flatten\n",
    "from keras.layers import Conv2D, MaxPooling2D\n",
    "from keras.layers.normalization import BatchNormalization\n",
    "import keras.backend as K"
   ]
  },
  {
   "cell_type": "code",
   "execution_count": 11,
   "metadata": {},
   "outputs": [
    {
     "name": "stdout",
     "output_type": "stream",
     "text": [
      "(46000, 28, 28, 1) (10000, 28, 28, 1) (46000, 1) (10000, 1)\n"
     ]
    }
   ],
   "source": [
    "x_train = Xtr1.astype('float32')\n",
    "x_test = Xts1.astype('float32')\n",
    "x_train /= 255\n",
    "x_test /= 255\n",
    "x_train=x_train.reshape((ntr,28,28,1))\n",
    "x_test=x_test.reshape((nts,28,28,1))\n",
    "y_train=ytr1.reshape((len(ytr1),1))\n",
    "y_test=yts1.reshape((len(yts1),1))\n",
    "print(x_train.shape,x_test.shape,y_train.shape,y_test.shape)"
   ]
  },
  {
   "cell_type": "code",
   "execution_count": 12,
   "metadata": {},
   "outputs": [
    {
     "data": {
      "text/plain": [
       "<matplotlib.image.AxesImage at 0x1820ca1c50>"
      ]
     },
     "execution_count": 12,
     "metadata": {},
     "output_type": "execute_result"
    },
    {
     "data": {
      "image/png": "[encoded data removed]",
      "text/plain": [
       "<matplotlib.figure.Figure at 0x181ff42b00>"
      ]
     },
     "metadata": {},
     "output_type": "display_data"
    }
   ],
   "source": [
    "myxt=np.zeros((28,28))\n",
    "myxt[:,:]=x_test[np.random.randint(1,10000),:,:,0]\n",
    "plt.imshow(myxt,cmap='Greys_r')"
   ]
  },
  {
   "cell_type": "code",
   "execution_count": 13,
   "metadata": {},
   "outputs": [
    {
     "data": {
      "text/plain": [
       "'\\nnum=15\\nfor m in range(len(y_train)):\\n    r=np.where(y_train==num)\\n    x_train[r,:,:,0]=0\\nfor m in range(len(y_test)):\\n    r=np.where(y_test==num)\\n    x_test[r,:,:,0]=0\\n'"
      ]
     },
     "execution_count": 13,
     "metadata": {},
     "output_type": "execute_result"
    }
   ],
   "source": [
    "# remove the confusing data: F\n",
    "'''\n",
    "num=15\n",
    "for m in range(len(y_train)):\n",
    "    r=np.where(y_train==num)\n",
    "    x_train[r,:,:,0]=0\n",
    "for m in range(len(y_test)):\n",
    "    r=np.where(y_test==num)\n",
    "    x_test[r,:,:,0]=0\n",
    "'''"
   ]
  },
  {
   "cell_type": "code",
   "execution_count": 14,
   "metadata": {},
   "outputs": [
    {
     "data": {
      "image/png": "[encoded data removed]",
      "text/plain": [
       "<matplotlib.figure.Figure at 0x1820cb1470>"
      ]
     },
     "metadata": {},
     "output_type": "display_data"
    }
   ],
   "source": [
    "# find the respective letter\n",
    "num=21\n",
    "for m in range(10):\n",
    "    r=np.where(y_train==num)[0][m]\n",
    "    myxt[:,:]=x_train[r,:,:,0]\n",
    "    plt.subplot(2,5,m+1)\n",
    "    plt.imshow(myxt,cmap='Greys_r')"
   ]
  },
  {
   "cell_type": "code",
   "execution_count": 15,
   "metadata": {},
   "outputs": [
    {
     "name": "stdout",
     "output_type": "stream",
     "text": [
      "Number of classes: 47\n"
     ]
    }
   ],
   "source": [
    "num_classes = 47\n",
    "y_train = keras.utils.to_categorical(y_train, num_classes)\n",
    "y_test = keras.utils.to_categorical(y_test, num_classes)\n",
    "print('Number of classes:', y_train.shape[1])"
   ]
  },
  {
   "cell_type": "code",
   "execution_count": 16,
   "metadata": {
    "collapsed": true
   },
   "outputs": [],
   "source": [
    "batch_size = 64\n",
    "epochs = 8\n",
    "lrate = 0.05\n",
    "decay = lrate/epochs"
   ]
  },
  {
   "cell_type": "code",
   "execution_count": 293,
   "metadata": {
    "collapsed": true
   },
   "outputs": [],
   "source": [
    "# TODO: 36/62 channels?\n",
    "K.clear_session()\n",
    "model = Sequential()\n",
    "model.add(Conv2D(32, (3, 3), \n",
    "                 padding='valid', \n",
    "                 input_shape=x_train.shape[1:],\n",
    "                 activation='relu'))\n",
    "model.add(MaxPooling2D(pool_size=(2, 2)))\n",
    "model.add(BatchNormalization())\n",
    "model.add(Conv2D(32, (3, 3), padding='valid', activation='relu'))\n",
    "model.add(MaxPooling2D(pool_size=(2, 2)))\n",
    "model.add(Flatten())\n",
    "model.add(BatchNormalization())\n",
    "model.add(Dense(512, activation='relu'))\n",
    "model.add(BatchNormalization())\n",
    "model.add(Dense(num_classes, activation='softmax'))"
   ]
  },
  {
   "cell_type": "code",
   "execution_count": 294,
   "metadata": {},
   "outputs": [
    {
     "name": "stdout",
     "output_type": "stream",
     "text": [
      "_________________________________________________________________\n",
      "Layer (type)                 Output Shape              Param #   \n",
      "=================================================================\n",
      "conv2d_1 (Conv2D)            (None, 26, 26, 32)        320       \n",
      "_________________________________________________________________\n",
      "max_pooling2d_1 (MaxPooling2 (None, 13, 13, 32)        0         \n",
      "_________________________________________________________________\n",
      "batch_normalization_1 (Batch (None, 13, 13, 32)        128       \n",
      "_________________________________________________________________\n",
      "conv2d_2 (Conv2D)            (None, 11, 11, 32)        9248      \n",
      "_________________________________________________________________\n",
      "max_pooling2d_2 (MaxPooling2 (None, 5, 5, 32)          0         \n",
      "_________________________________________________________________\n",
      "flatten_1 (Flatten)          (None, 800)               0         \n",
      "_________________________________________________________________\n",
      "batch_normalization_2 (Batch (None, 800)               3200      \n",
      "_________________________________________________________________\n",
      "dense_1 (Dense)              (None, 512)               410112    \n",
      "_________________________________________________________________\n",
      "batch_normalization_3 (Batch (None, 512)               2048      \n",
      "_________________________________________________________________\n",
      "dense_2 (Dense)              (None, 47)                24111     \n",
      "=================================================================\n",
      "Total params: 449,167\n",
      "Trainable params: 446,479\n",
      "Non-trainable params: 2,688\n",
      "_________________________________________________________________\n",
      "None\n"
     ]
    }
   ],
   "source": [
    "# initiate Adam optimizer\n",
    "opt = keras.optimizers.adam(lr=lrate, decay=decay)\n",
    "\n",
    "# Let's train the model using Adam\n",
    "model.compile(loss='categorical_crossentropy',\n",
    "              optimizer=opt,\n",
    "              metrics=['accuracy'])\n",
    "print(model.summary())"
   ]
  },
  {
   "cell_type": "code",
   "execution_count": 295,
   "metadata": {},
   "outputs": [
    {
     "name": "stdout",
     "output_type": "stream",
     "text": [
      "Train on 46000 samples, validate on 10000 samples\n",
      "Epoch 1/8\n",
      "46000/46000 [==============================] - 63s 1ms/step - loss: 0.6302 - acc: 0.8027 - val_loss: 0.4271 - val_acc: 0.8616\n",
      "Epoch 2/8\n",
      "46000/46000 [==============================] - 63s 1ms/step - loss: 0.3775 - acc: 0.8687 - val_loss: 0.4012 - val_acc: 0.8638\n",
      "Epoch 3/8\n",
      "46000/46000 [==============================] - 64s 1ms/step - loss: 0.3123 - acc: 0.8860 - val_loss: 0.4087 - val_acc: 0.8629\n",
      "Epoch 4/8\n",
      "46000/46000 [==============================] - 63s 1ms/step - loss: 0.2725 - acc: 0.8980 - val_loss: 0.3972 - val_acc: 0.8673\n",
      "Epoch 5/8\n",
      "46000/46000 [==============================] - 61s 1ms/step - loss: 0.2424 - acc: 0.9065 - val_loss: 0.4307 - val_acc: 0.8664\n",
      "Epoch 6/8\n",
      "46000/46000 [==============================] - 63s 1ms/step - loss: 0.2147 - acc: 0.9152 - val_loss: 0.4057 - val_acc: 0.8675\n",
      "Epoch 7/8\n",
      "46000/46000 [==============================] - 66s 1ms/step - loss: 0.1971 - acc: 0.9217 - val_loss: 0.4199 - val_acc: 0.8656\n",
      "Epoch 8/8\n",
      "46000/46000 [==============================] - 62s 1ms/step - loss: 0.1821 - acc: 0.9266 - val_loss: 0.4359 - val_acc: 0.8622\n",
      "Done!\n"
     ]
    }
   ],
   "source": [
    "seed=7\n",
    "k=1\n",
    "c=4\n",
    "# Fit the model\n",
    "np.random.seed(seed)\n",
    "class_weight={0:k*1.3,1:k/1.8,2:k/1.1,3:k,4:k,5:k*1.5,6:k,7:k,8:k*2,9:k*2,10:k,11:k,12:k,13:k,14:k,15:k*2,16:k,17:k,18:k,19:k,20:k,21:k*2,\n",
    "              22:k,23:k,24:k*2,25:k,26:k,27:k,28:k,29:k,30:k,31:k,32:k,33:k,34:k,35:k*3,36:k,37:k*2,38:k,39:k,40:k*10,41:k*8,42:k,\n",
    "              43:k,44:k*9,45:k,46:k}\n",
    "hist_basic = model.fit(x_train, y_train,batch_size=batch_size,epochs=epochs,validation_data=(x_test, y_test),shuffle=True,\n",
    "                       #class_weight='auto'\n",
    "                      )\n",
    "\n",
    "print('Done!')"
   ]
  },
  {
   "cell_type": "code",
   "execution_count": 296,
   "metadata": {
    "collapsed": true
   },
   "outputs": [],
   "source": [
    "model.save(\"emnist_BatchNormalization_47_classwight_kernel2.h5\")\n",
    "model = load_model(\"emnist_BatchNormalization_47_classwight_kernel2.h5\")"
   ]
  },
  {
   "cell_type": "code",
   "execution_count": 297,
   "metadata": {
    "collapsed": true
   },
   "outputs": [],
   "source": [
    "## prediction based on the model"
   ]
  },
  {
   "cell_type": "code",
   "execution_count": 298,
   "metadata": {},
   "outputs": [
    {
     "name": "stdout",
     "output_type": "stream",
     "text": [
      "[[1.23515804e-07 3.72122955e-08 3.33188154e-07 5.02231833e-11\n",
      "  2.66159816e-07 7.74245723e-10 2.93974267e-06 8.25428259e-09\n",
      "  1.30503670e-08 1.94423663e-07 3.92194522e-07 9.07756856e-08\n",
      "  1.39135006e-11 5.67333132e-08 9.90347626e-09 1.37257697e-12\n",
      "  2.46301897e-06 1.12099215e-05 5.48474244e-09 7.67718422e-09\n",
      "  4.68045869e-07 3.39324941e-08 7.82226408e-08 5.11993903e-07\n",
      "  8.78020046e-10 9.56579260e-12 2.21214600e-06 4.08123579e-09\n",
      "  1.49083142e-11 3.07458663e-08 9.69479024e-01 2.14808570e-05\n",
      "  3.04293744e-02 2.45321161e-07 4.07663583e-06 3.00070724e-08\n",
      "  8.79328638e-07 2.48769254e-08 9.38984249e-06 4.17549190e-10\n",
      "  1.87652158e-10 1.93214706e-08 3.35925979e-05 6.83860790e-08\n",
      "  2.19290456e-07 5.72550236e-11 3.96266930e-09]]\n",
      "30\n",
      "[0. 0. 0. 0. 0. 0. 0. 0. 0. 0. 0. 0. 0. 0. 0. 0. 0. 0. 0. 0. 0. 0. 0. 0.\n",
      " 0. 0. 0. 0. 0. 0. 1. 0. 0. 0. 0. 0. 0. 0. 0. 0. 0. 0. 0. 0. 0. 0. 0.]\n",
      "u\n"
     ]
    },
    {
     "data": {
      "image/png": "[encoded data removed]",
      "text/plain": [
       "<matplotlib.figure.Figure at 0x1854d95390>"
      ]
     },
     "metadata": {},
     "output_type": "display_data"
    }
   ],
   "source": [
    "myn=np.random.randint(1,20000)\n",
    "myxtr=np.array(x_train[myn,:,:,:])\n",
    "myxtrp=np.reshape(myxtr,(28,28))\n",
    "plt.imshow(myxtrp,cmap='Greys_r')\n",
    "myxtr=np.reshape(myxtr,(1,28,28,1))\n",
    "preds = model.predict(myxtr)\n",
    "print(preds)\n",
    "print(np.argmax(preds))\n",
    "print(y_train[myn])\n",
    "if np.argmax(y_train[myn])<10:\n",
    "    ascii=48+np.argmax(y_train[myn])\n",
    "else:\n",
    "    ascii=87+np.argmax(y_train[myn])\n",
    "print(chr(ascii))"
   ]
  },
  {
   "cell_type": "code",
   "execution_count": 299,
   "metadata": {},
   "outputs": [
    {
     "name": "stdout",
     "output_type": "stream",
     "text": [
      "Accuaracy = 0.862200\n"
     ]
    }
   ],
   "source": [
    "yhat=model.predict(x_test)\n",
    "yhatp=np.argmax(yhat,axis=1)\n",
    "ytsp=np.argmax(y_test,axis=1)\n",
    "acc = np.mean(yhatp == ytsp)\n",
    "print('Accuaracy = {0:f}'.format(acc))"
   ]
  },
  {
   "cell_type": "code",
   "execution_count": 300,
   "metadata": {},
   "outputs": [
    {
     "name": "stdout",
     "output_type": "stream",
     "text": [
      "[[0.843 0.    0.    ... 0.    0.    0.   ]\n",
      " [0.    0.739 0.002 ... 0.    0.    0.   ]\n",
      " [0.    0.    0.957 ... 0.    0.    0.   ]\n",
      " ...\n",
      " [0.    0.    0.    ... 0.2   0.    0.   ]\n",
      " [0.    0.014 0.    ... 0.    0.829 0.014]\n",
      " [0.    0.    0.    ... 0.    0.    0.895]]\n"
     ]
    },
    {
     "data": {
      "text/plain": [
       "<matplotlib.colorbar.Colorbar at 0x18304090b8>"
      ]
     },
     "execution_count": 300,
     "metadata": {},
     "output_type": "execute_result"
    },
    {
     "data": {
      "image/png": "[encoded data removed]",
      "text/plain": [
       "<matplotlib.figure.Figure at 0x1824c50da0>"
      ]
     },
     "metadata": {},
     "output_type": "display_data"
    }
   ],
   "source": [
    "from sklearn.metrics import confusion_matrix\n",
    "from sklearn.preprocessing import normalize\n",
    "\n",
    "C = confusion_matrix(ytsp,yhatp)\n",
    "\n",
    "# Normalize the confusion matrix\n",
    "#Csum = np.sum(C,1)\n",
    "#C = C / Csum[None,:]\n",
    "C = normalize(C, norm='l1', axis=1)\n",
    "\n",
    "# Print the confusion matrix\n",
    "print(np.array_str(C, precision=3, suppress_small=True))\n",
    "plt.figure(figsize=(20, 10))\n",
    "plt.imshow(C, interpolation='none')\n",
    "plt.colorbar()"
   ]
  },
  {
   "cell_type": "code",
   "execution_count": 301,
   "metadata": {},
   "outputs": [
    {
     "name": "stdout",
     "output_type": "stream",
     "text": [
      "[0.84325397 0.73854962 0.95687885 0.99441341 0.94639175 0.94305239\n",
      " 0.97797357 0.97194389 0.96082474 0.975      0.78409091 0.86440678\n",
      " 0.90769231 0.89230769 0.85483871 0.78787879 0.74       0.87804878\n",
      " 0.31279621 0.77333333 0.90909091 0.56610169 0.95679012 0.93023256\n",
      " 0.47150259 0.95092025 0.83333333 0.86440678 0.82857143 0.90849673\n",
      " 0.94977169 0.90322581 0.94117647 0.9047619  0.875      0.66233766\n",
      " 0.96969697 0.57142857 0.93835616 0.95396419 0.27906977 0.31914894\n",
      " 0.9109589  0.94565217 0.2        0.82938389 0.89495798]\n",
      "(array([ 1, 10, 15, 16, 18, 19, 21, 24, 35, 37, 40, 41, 44]),)\n"
     ]
    }
   ],
   "source": [
    "Cd=C.diagonal()\n",
    "print(Cd)\n",
    "print(np.where(Cd<0.8))"
   ]
  },
  {
   "cell_type": "code",
   "execution_count": null,
   "metadata": {
    "collapsed": true
   },
   "outputs": [],
   "source": [
    "# use a loop to find the best parameter"
   ]
  },
  {
   "cell_type": "code",
   "execution_count": 303,
   "metadata": {},
   "outputs": [
    {
     "name": "stdout",
     "output_type": "stream",
     "text": [
      "nc=16,node=384\n",
      "Train on 46000 samples, validate on 10000 samples\n",
      "Epoch 1/8\n",
      "46000/46000 [==============================] - 29s 640us/step - loss: 0.7548 - acc: 0.7863 - val_loss: 0.4637 - val_acc: 0.8417\n",
      "Epoch 2/8\n",
      "46000/46000 [==============================] - 28s 614us/step - loss: 0.3944 - acc: 0.8632 - val_loss: 0.3924 - val_acc: 0.8644\n",
      "Epoch 3/8\n",
      "46000/46000 [==============================] - 28s 606us/step - loss: 0.3256 - acc: 0.8814 - val_loss: 0.3784 - val_acc: 0.8740\n",
      "Epoch 4/8\n",
      "46000/46000 [==============================] - 29s 625us/step - loss: 0.2899 - acc: 0.8925 - val_loss: 0.3865 - val_acc: 0.8741\n",
      "Epoch 5/8\n",
      "46000/46000 [==============================] - 28s 608us/step - loss: 0.2595 - acc: 0.9013 - val_loss: 0.3888 - val_acc: 0.8737\n",
      "Epoch 6/8\n",
      "46000/46000 [==============================] - 28s 611us/step - loss: 0.2366 - acc: 0.9104 - val_loss: 0.3883 - val_acc: 0.8748\n",
      "Epoch 7/8\n",
      "46000/46000 [==============================] - 28s 612us/step - loss: 0.2188 - acc: 0.9144 - val_loss: 0.3990 - val_acc: 0.8720\n",
      "Epoch 8/8\n",
      "46000/46000 [==============================] - 28s 619us/step - loss: 0.2039 - acc: 0.9202 - val_loss: 0.3967 - val_acc: 0.8731\n",
      "nc=16,node=512\n",
      "Train on 46000 samples, validate on 10000 samples\n",
      "Epoch 1/8\n",
      "46000/46000 [==============================] - 33s 718us/step - loss: 0.9367 - acc: 0.7661 - val_loss: 0.4698 - val_acc: 0.8445\n",
      "Epoch 2/8\n",
      "46000/46000 [==============================] - 32s 695us/step - loss: 0.4140 - acc: 0.8562 - val_loss: 0.4129 - val_acc: 0.8624\n",
      "Epoch 3/8\n",
      "46000/46000 [==============================] - 34s 732us/step - loss: 0.3476 - acc: 0.8755 - val_loss: 0.4079 - val_acc: 0.8610\n",
      "Epoch 4/8\n",
      "46000/46000 [==============================] - 32s 705us/step - loss: 0.3040 - acc: 0.8877 - val_loss: 0.3806 - val_acc: 0.8751\n",
      "Epoch 5/8\n",
      "46000/46000 [==============================] - 32s 696us/step - loss: 0.2752 - acc: 0.8972 - val_loss: 0.3831 - val_acc: 0.8743\n",
      "Epoch 6/8\n",
      "46000/46000 [==============================] - 32s 697us/step - loss: 0.2509 - acc: 0.9032 - val_loss: 0.3857 - val_acc: 0.8750\n",
      "Epoch 7/8\n",
      "46000/46000 [==============================] - 32s 698us/step - loss: 0.2324 - acc: 0.9101 - val_loss: 0.3840 - val_acc: 0.8749\n",
      "Epoch 8/8\n",
      "46000/46000 [==============================] - 32s 696us/step - loss: 0.2162 - acc: 0.9161 - val_loss: 0.3982 - val_acc: 0.8698\n",
      "nc=16,node=640\n",
      "Train on 46000 samples, validate on 10000 samples\n",
      "Epoch 1/8\n",
      "46000/46000 [==============================] - 35s 771us/step - loss: 1.1055 - acc: 0.7681 - val_loss: 0.4701 - val_acc: 0.8417\n",
      "Epoch 2/8\n",
      "46000/46000 [==============================] - 34s 735us/step - loss: 0.4161 - acc: 0.8578 - val_loss: 0.4386 - val_acc: 0.8524\n",
      "Epoch 3/8\n",
      "46000/46000 [==============================] - 34s 736us/step - loss: 0.3495 - acc: 0.8747 - val_loss: 0.3977 - val_acc: 0.8678\n",
      "Epoch 4/8\n",
      "46000/46000 [==============================] - 34s 742us/step - loss: 0.3093 - acc: 0.8872 - val_loss: 0.3826 - val_acc: 0.8720\n",
      "Epoch 5/8\n",
      "46000/46000 [==============================] - 36s 773us/step - loss: 0.2801 - acc: 0.8947 - val_loss: 0.3785 - val_acc: 0.8744\n",
      "Epoch 6/8\n",
      "46000/46000 [==============================] - 36s 785us/step - loss: 0.2580 - acc: 0.9020 - val_loss: 0.3776 - val_acc: 0.8766\n",
      "Epoch 7/8\n",
      "46000/46000 [==============================] - 35s 771us/step - loss: 0.2370 - acc: 0.9081 - val_loss: 0.3822 - val_acc: 0.8738\n",
      "Epoch 8/8\n",
      "46000/46000 [==============================] - 36s 773us/step - loss: 0.2226 - acc: 0.9134 - val_loss: 0.3790 - val_acc: 0.8799\n",
      "nc=32,node=384\n",
      "Train on 46000 samples, validate on 10000 samples\n",
      "Epoch 1/8\n",
      "46000/46000 [==============================] - 61s 1ms/step - loss: 0.7467 - acc: 0.7870 - val_loss: 0.4430 - val_acc: 0.8529\n",
      "Epoch 2/8\n",
      "46000/46000 [==============================] - 59s 1ms/step - loss: 0.3786 - acc: 0.8685 - val_loss: 0.4073 - val_acc: 0.8492\n",
      "Epoch 3/8\n",
      "46000/46000 [==============================] - 60s 1ms/step - loss: 0.3143 - acc: 0.8846 - val_loss: 0.3723 - val_acc: 0.8758\n",
      "Epoch 4/8\n",
      "46000/46000 [==============================] - 60s 1ms/step - loss: 0.2737 - acc: 0.8976 - val_loss: 0.3672 - val_acc: 0.8773\n",
      "Epoch 5/8\n",
      "46000/46000 [==============================] - 60s 1ms/step - loss: 0.2433 - acc: 0.9068 - val_loss: 0.3808 - val_acc: 0.8786\n",
      "Epoch 6/8\n",
      "46000/46000 [==============================] - 59s 1ms/step - loss: 0.2220 - acc: 0.9125 - val_loss: 0.3756 - val_acc: 0.8825\n",
      "Epoch 7/8\n",
      "46000/46000 [==============================] - 61s 1ms/step - loss: 0.2002 - acc: 0.9217 - val_loss: 0.3798 - val_acc: 0.8818\n",
      "Epoch 8/8\n",
      "46000/46000 [==============================] - 59s 1ms/step - loss: 0.1863 - acc: 0.9258 - val_loss: 0.3988 - val_acc: 0.8786\n",
      "nc=32,node=512\n",
      "Train on 46000 samples, validate on 10000 samples\n",
      "Epoch 1/8\n",
      "46000/46000 [==============================] - 63s 1ms/step - loss: 0.8393 - acc: 0.7738 - val_loss: 0.4995 - val_acc: 0.8324\n",
      "Epoch 2/8\n",
      "46000/46000 [==============================] - 62s 1ms/step - loss: 0.3981 - acc: 0.8619 - val_loss: 0.4007 - val_acc: 0.8703\n",
      "Epoch 3/8\n",
      "46000/46000 [==============================] - 62s 1ms/step - loss: 0.3368 - acc: 0.8789 - val_loss: 0.4001 - val_acc: 0.8655\n",
      "Epoch 4/8\n",
      "46000/46000 [==============================] - 66s 1ms/step - loss: 0.2970 - acc: 0.8907 - val_loss: 0.3835 - val_acc: 0.8703\n",
      "Epoch 5/8\n",
      "46000/46000 [==============================] - 65s 1ms/step - loss: 0.2661 - acc: 0.8997 - val_loss: 0.4000 - val_acc: 0.8728\n",
      "Epoch 6/8\n",
      "46000/46000 [==============================] - 65s 1ms/step - loss: 0.2428 - acc: 0.9067 - val_loss: 0.3850 - val_acc: 0.8765\n",
      "Epoch 7/8\n",
      "46000/46000 [==============================] - 67s 1ms/step - loss: 0.2253 - acc: 0.9131 - val_loss: 0.3970 - val_acc: 0.8721\n",
      "Epoch 8/8\n",
      "46000/46000 [==============================] - 63s 1ms/step - loss: 0.2074 - acc: 0.9179 - val_loss: 0.3977 - val_acc: 0.8760\n",
      "nc=32,node=640\n",
      "Train on 46000 samples, validate on 10000 samples\n",
      "Epoch 1/8\n",
      "46000/46000 [==============================] - 70s 2ms/step - loss: 1.0933 - acc: 0.7525 - val_loss: 0.5016 - val_acc: 0.8304\n",
      "Epoch 2/8\n",
      "46000/46000 [==============================] - 64s 1ms/step - loss: 0.4315 - acc: 0.8511 - val_loss: 0.4396 - val_acc: 0.8518\n",
      "Epoch 3/8\n",
      "46000/46000 [==============================] - 68s 1ms/step - loss: 0.3682 - acc: 0.8710 - val_loss: 0.3942 - val_acc: 0.8636\n",
      "Epoch 4/8\n",
      "46000/46000 [==============================] - 67s 1ms/step - loss: 0.3274 - acc: 0.8834 - val_loss: 0.4291 - val_acc: 0.8579\n",
      "Epoch 5/8\n",
      "46000/46000 [==============================] - 69s 1ms/step - loss: 0.3016 - acc: 0.8899 - val_loss: 0.4213 - val_acc: 0.8612\n",
      "Epoch 6/8\n",
      "46000/46000 [==============================] - 68s 1ms/step - loss: 0.2770 - acc: 0.8971 - val_loss: 0.3989 - val_acc: 0.8724\n",
      "Epoch 7/8\n",
      "46000/46000 [==============================] - 67s 1ms/step - loss: 0.2579 - acc: 0.9027 - val_loss: 0.3909 - val_acc: 0.8725\n",
      "Epoch 8/8\n",
      "46000/46000 [==============================] - 68s 1ms/step - loss: 0.2439 - acc: 0.9063 - val_loss: 0.4026 - val_acc: 0.8754\n",
      "nc=48,node=384\n",
      "Train on 46000 samples, validate on 10000 samples\n",
      "Epoch 1/8\n",
      "46000/46000 [==============================] - 102s 2ms/step - loss: 0.7368 - acc: 0.7928 - val_loss: 0.4215 - val_acc: 0.8560\n",
      "Epoch 2/8\n",
      "46000/46000 [==============================] - 88s 2ms/step - loss: 0.3713 - acc: 0.8690 - val_loss: 0.3846 - val_acc: 0.8729\n",
      "Epoch 3/8\n",
      "46000/46000 [==============================] - 87s 2ms/step - loss: 0.3077 - acc: 0.8882 - val_loss: 0.3720 - val_acc: 0.8741\n",
      "Epoch 4/8\n",
      "46000/46000 [==============================] - 87s 2ms/step - loss: 0.2687 - acc: 0.8981 - val_loss: 0.3581 - val_acc: 0.8798\n",
      "Epoch 5/8\n",
      "46000/46000 [==============================] - 89s 2ms/step - loss: 0.2377 - acc: 0.9083 - val_loss: 0.3744 - val_acc: 0.8811\n",
      "Epoch 6/8\n",
      "46000/46000 [==============================] - 88s 2ms/step - loss: 0.2139 - acc: 0.9153 - val_loss: 0.3856 - val_acc: 0.8696\n",
      "Epoch 7/8\n",
      "46000/46000 [==============================] - 88s 2ms/step - loss: 0.1950 - acc: 0.9222 - val_loss: 0.3846 - val_acc: 0.8770\n",
      "Epoch 8/8\n",
      "46000/46000 [==============================] - 88s 2ms/step - loss: 0.1801 - acc: 0.9273 - val_loss: 0.4065 - val_acc: 0.8778\n",
      "nc=48,node=512\n",
      "Train on 46000 samples, validate on 10000 samples\n",
      "Epoch 1/8\n"
     ]
    },
    {
     "name": "stdout",
     "output_type": "stream",
     "text": [
      "46000/46000 [==============================] - 97s 2ms/step - loss: 0.8842 - acc: 0.7788 - val_loss: 0.4717 - val_acc: 0.8389\n",
      "Epoch 2/8\n",
      "46000/46000 [==============================] - 92s 2ms/step - loss: 0.3909 - acc: 0.8625 - val_loss: 0.3847 - val_acc: 0.8690\n",
      "Epoch 3/8\n",
      "46000/46000 [==============================] - 92s 2ms/step - loss: 0.3213 - acc: 0.8834 - val_loss: 0.3819 - val_acc: 0.8684\n",
      "Epoch 4/8\n",
      "46000/46000 [==============================] - 92s 2ms/step - loss: 0.2832 - acc: 0.8954 - val_loss: 0.3800 - val_acc: 0.8759\n",
      "Epoch 5/8\n",
      "46000/46000 [==============================] - 92s 2ms/step - loss: 0.2515 - acc: 0.9045 - val_loss: 0.3748 - val_acc: 0.8773\n",
      "Epoch 6/8\n",
      "46000/46000 [==============================] - 93s 2ms/step - loss: 0.2298 - acc: 0.9128 - val_loss: 0.3798 - val_acc: 0.8769\n",
      "Epoch 7/8\n",
      "46000/46000 [==============================] - 92s 2ms/step - loss: 0.2072 - acc: 0.9190 - val_loss: 0.3862 - val_acc: 0.8799\n",
      "Epoch 8/8\n",
      "46000/46000 [==============================] - 94s 2ms/step - loss: 0.1919 - acc: 0.9245 - val_loss: 0.3916 - val_acc: 0.8775\n",
      "nc=48,node=640\n",
      "Train on 46000 samples, validate on 10000 samples\n",
      "Epoch 1/8\n",
      "46000/46000 [==============================] - 97s 2ms/step - loss: 1.1306 - acc: 0.7643 - val_loss: 0.4796 - val_acc: 0.8355\n",
      "Epoch 2/8\n",
      "46000/46000 [==============================] - 96s 2ms/step - loss: 0.4054 - acc: 0.8600 - val_loss: 0.4278 - val_acc: 0.8609\n",
      "Epoch 3/8\n",
      "46000/46000 [==============================] - 96s 2ms/step - loss: 0.3385 - acc: 0.8786 - val_loss: 0.3986 - val_acc: 0.8627\n",
      "Epoch 4/8\n",
      "46000/46000 [==============================] - 95s 2ms/step - loss: 0.2957 - acc: 0.8904 - val_loss: 0.3771 - val_acc: 0.8767\n",
      "Epoch 5/8\n",
      "46000/46000 [==============================] - 95s 2ms/step - loss: 0.2683 - acc: 0.8990 - val_loss: 0.3837 - val_acc: 0.8752\n",
      "Epoch 6/8\n",
      "46000/46000 [==============================] - 96s 2ms/step - loss: 0.2419 - acc: 0.9078 - val_loss: 0.3949 - val_acc: 0.8768\n",
      "Epoch 7/8\n",
      "46000/46000 [==============================] - 94s 2ms/step - loss: 0.2225 - acc: 0.9138 - val_loss: 0.4025 - val_acc: 0.8731\n",
      "Epoch 8/8\n",
      "46000/46000 [==============================] - 93s 2ms/step - loss: 0.2052 - acc: 0.9203 - val_loss: 0.3930 - val_acc: 0.8785\n"
     ]
    }
   ],
   "source": [
    "history=[]\n",
    "nodes=np.array([384,512,640])\n",
    "nconvs=np.array([16,32,48])\n",
    "for i,nc in enumerate(nconvs):\n",
    "    for j,node in enumerate(nodes):\n",
    "        K.clear_session()\n",
    "        model = Sequential()\n",
    "        model.add(Conv2D(nc, (3, 3), \n",
    "                         padding='valid', \n",
    "                         input_shape=x_train.shape[1:],\n",
    "                         activation='relu'))\n",
    "        #model.add(BatchNormalization())\n",
    "        #model.add(Conv2D(32, (3, 3), padding='valid', activation='relu'))   #+0.01\n",
    "        model.add(MaxPooling2D(pool_size=(2, 2)))\n",
    "        model.add(BatchNormalization())\n",
    "        model.add(Conv2D(nc, (3, 3), padding='valid', activation='relu'))\n",
    "        model.add(MaxPooling2D(pool_size=(2, 2)))\n",
    "        #model.add(Conv2D(28, (3, 3), padding='valid', activation='relu'))   #+0.00\n",
    "        #model.add(BatchNormalization())\n",
    "\n",
    "        model.add(Flatten())\n",
    "        model.add(BatchNormalization())\n",
    "        model.add(Dense(node, activation='relu'))\n",
    "        model.add(BatchNormalization())\n",
    "        #model.add(Dense(62, activation='relu'))   #+0.01\n",
    "        #model.add(BatchNormalization())\n",
    "        opt = keras.optimizers.adam(lr=lrate, decay=decay)\n",
    "        model.add(Dense(num_classes, activation='softmax'))\n",
    "        model.compile(loss='categorical_crossentropy',\n",
    "              optimizer=opt,\n",
    "              metrics=['accuracy'])\n",
    "        print('nc={},node={}'.format(nc,node))\n",
    "        hist_basic = model.fit(x_train, y_train,batch_size=batch_size,\n",
    "                               epochs=epochs,validation_data=(x_test, y_test),shuffle=True)\n",
    "        history.append(hist_basic)\n",
    "        "
   ]
  },
  {
   "cell_type": "code",
   "execution_count": 304,
   "metadata": {},
   "outputs": [
    {
     "name": "stdout",
     "output_type": "stream",
     "text": [
      "[[0.8748 0.8751 0.8799]\n",
      " [0.8825 0.8765 0.8754]\n",
      " [0.8811 0.8799 0.8785]]\n",
      "(3, 3)\n",
      "the best nconvs is 32,the best nnode is 384\n",
      "the maximum val_accuracy is 0.8825\n"
     ]
    }
   ],
   "source": [
    "h=np.zeros((9,1))\n",
    "for n in range(9):\n",
    "    h[n]=np.max(history[n].history['val_acc'])\n",
    "h1=h.reshape((len(nconvs),len(nodes)))\n",
    "print(h1)\n",
    "print(h1.shape)\n",
    "c=0\n",
    "for i,nc in enumerate(nconvs):\n",
    "    for j,node in enumerate(nodes):\n",
    "        if h1[i,j]>c:\n",
    "            c=h1[i,j]\n",
    "            convmax=nc\n",
    "            nodemax=node\n",
    "print('the best nconvs is {},the best nnode is {}'.format(convmax,nodemax))\n",
    "print('the maximum val_accuracy is {}'.format(np.max(h1)))"
   ]
  },
  {
   "cell_type": "code",
   "execution_count": null,
   "metadata": {
    "collapsed": true
   },
   "outputs": [],
   "source": [
    "# go further from above to find better nconvs and n node"
   ]
  },
  {
   "cell_type": "code",
   "execution_count": 305,
   "metadata": {},
   "outputs": [
    {
     "name": "stdout",
     "output_type": "stream",
     "text": [
      "nc=24,node=320\n",
      "Train on 46000 samples, validate on 10000 samples\n",
      "Epoch 1/8\n",
      "46000/46000 [==============================] - 48s 1ms/step - loss: 0.6819 - acc: 0.7966 - val_loss: 0.4265 - val_acc: 0.8564\n",
      "Epoch 2/8\n",
      "46000/46000 [==============================] - 45s 978us/step - loss: 0.3733 - acc: 0.8688 - val_loss: 0.3767 - val_acc: 0.8716\n",
      "Epoch 3/8\n",
      "46000/46000 [==============================] - 45s 981us/step - loss: 0.3129 - acc: 0.8860 - val_loss: 0.3692 - val_acc: 0.8732\n",
      "Epoch 4/8\n",
      "46000/46000 [==============================] - 46s 996us/step - loss: 0.2722 - acc: 0.8973 - val_loss: 0.3689 - val_acc: 0.8759\n",
      "Epoch 5/8\n",
      "46000/46000 [==============================] - 47s 1ms/step - loss: 0.2435 - acc: 0.9066 - val_loss: 0.3786 - val_acc: 0.8713\n",
      "Epoch 6/8\n",
      "46000/46000 [==============================] - 47s 1ms/step - loss: 0.2218 - acc: 0.9136 - val_loss: 0.3775 - val_acc: 0.8767\n",
      "Epoch 7/8\n",
      "46000/46000 [==============================] - 47s 1ms/step - loss: 0.2036 - acc: 0.9215 - val_loss: 0.3817 - val_acc: 0.8789\n",
      "Epoch 8/8\n",
      "46000/46000 [==============================] - 47s 1ms/step - loss: 0.1874 - acc: 0.9259 - val_loss: 0.3933 - val_acc: 0.8784\n",
      "nc=24,node=384\n",
      "Train on 46000 samples, validate on 10000 samples\n",
      "Epoch 1/8\n",
      "46000/46000 [==============================] - 46s 1ms/step - loss: 0.7690 - acc: 0.7808 - val_loss: 0.5000 - val_acc: 0.8369\n",
      "Epoch 2/8\n",
      "46000/46000 [==============================] - 45s 983us/step - loss: 0.3935 - acc: 0.8620 - val_loss: 0.4044 - val_acc: 0.8660\n",
      "Epoch 3/8\n",
      "46000/46000 [==============================] - 46s 991us/step - loss: 0.3333 - acc: 0.8807 - val_loss: 0.3885 - val_acc: 0.8681\n",
      "Epoch 4/8\n",
      "46000/46000 [==============================] - 48s 1ms/step - loss: 0.2929 - acc: 0.8925 - val_loss: 0.3682 - val_acc: 0.8732\n",
      "Epoch 5/8\n",
      "46000/46000 [==============================] - 46s 1ms/step - loss: 0.2651 - acc: 0.9006 - val_loss: 0.3882 - val_acc: 0.8704\n",
      "Epoch 6/8\n",
      "46000/46000 [==============================] - 46s 994us/step - loss: 0.2411 - acc: 0.9090 - val_loss: 0.3714 - val_acc: 0.8795\n",
      "Epoch 7/8\n",
      "46000/46000 [==============================] - 46s 999us/step - loss: 0.2201 - acc: 0.9150 - val_loss: 0.3832 - val_acc: 0.8778\n",
      "Epoch 8/8\n",
      "46000/46000 [==============================] - 46s 1000us/step - loss: 0.2071 - acc: 0.9185 - val_loss: 0.3901 - val_acc: 0.8772\n",
      "nc=24,node=448\n",
      "Train on 46000 samples, validate on 10000 samples\n",
      "Epoch 1/8\n",
      "46000/46000 [==============================] - 48s 1ms/step - loss: 0.8109 - acc: 0.7831 - val_loss: 0.4671 - val_acc: 0.8441\n",
      "Epoch 2/8\n",
      "46000/46000 [==============================] - 47s 1ms/step - loss: 0.3964 - acc: 0.8613 - val_loss: 0.3873 - val_acc: 0.8691\n",
      "Epoch 3/8\n",
      "46000/46000 [==============================] - 47s 1ms/step - loss: 0.3324 - acc: 0.8814 - val_loss: 0.3888 - val_acc: 0.8712\n",
      "Epoch 4/8\n",
      "46000/46000 [==============================] - 47s 1ms/step - loss: 0.2894 - acc: 0.8936 - val_loss: 0.3917 - val_acc: 0.8714\n",
      "Epoch 5/8\n",
      "46000/46000 [==============================] - 47s 1ms/step - loss: 0.2648 - acc: 0.8996 - val_loss: 0.3812 - val_acc: 0.8801\n",
      "Epoch 6/8\n",
      "46000/46000 [==============================] - 47s 1ms/step - loss: 0.2417 - acc: 0.9075 - val_loss: 0.3808 - val_acc: 0.8787\n",
      "Epoch 7/8\n",
      "46000/46000 [==============================] - 47s 1ms/step - loss: 0.2232 - acc: 0.9136 - val_loss: 0.3913 - val_acc: 0.8702\n",
      "Epoch 8/8\n",
      "46000/46000 [==============================] - 47s 1ms/step - loss: 0.2078 - acc: 0.9188 - val_loss: 0.4019 - val_acc: 0.8776\n",
      "nc=32,node=320\n",
      "Train on 46000 samples, validate on 10000 samples\n",
      "Epoch 1/8\n",
      "46000/46000 [==============================] - 61s 1ms/step - loss: 0.7116 - acc: 0.7918 - val_loss: 0.4572 - val_acc: 0.8496\n",
      "Epoch 2/8\n",
      "46000/46000 [==============================] - 60s 1ms/step - loss: 0.3812 - acc: 0.8660 - val_loss: 0.3714 - val_acc: 0.8718\n",
      "Epoch 3/8\n",
      "46000/46000 [==============================] - 60s 1ms/step - loss: 0.3205 - acc: 0.8832 - val_loss: 0.3627 - val_acc: 0.8745\n",
      "Epoch 4/8\n",
      "46000/46000 [==============================] - 60s 1ms/step - loss: 0.2816 - acc: 0.8960 - val_loss: 0.3585 - val_acc: 0.8771\n",
      "Epoch 5/8\n",
      "46000/46000 [==============================] - 60s 1ms/step - loss: 0.2538 - acc: 0.9049 - val_loss: 0.3656 - val_acc: 0.8797\n",
      "Epoch 6/8\n",
      "46000/46000 [==============================] - 60s 1ms/step - loss: 0.2294 - acc: 0.9112 - val_loss: 0.3647 - val_acc: 0.8806\n",
      "Epoch 7/8\n",
      "46000/46000 [==============================] - 60s 1ms/step - loss: 0.2098 - acc: 0.9179 - val_loss: 0.3715 - val_acc: 0.8808\n",
      "Epoch 8/8\n",
      "46000/46000 [==============================] - 60s 1ms/step - loss: 0.1939 - acc: 0.9227 - val_loss: 0.3870 - val_acc: 0.8790\n",
      "nc=32,node=384\n",
      "Train on 46000 samples, validate on 10000 samples\n",
      "Epoch 1/8\n",
      "46000/46000 [==============================] - 60s 1ms/step - loss: 0.8128 - acc: 0.7774 - val_loss: 0.4525 - val_acc: 0.8467\n",
      "Epoch 2/8\n",
      "46000/46000 [==============================] - 58s 1ms/step - loss: 0.3975 - acc: 0.8618 - val_loss: 0.3925 - val_acc: 0.8663\n",
      "Epoch 3/8\n",
      "46000/46000 [==============================] - 58s 1ms/step - loss: 0.3298 - acc: 0.8815 - val_loss: 0.3806 - val_acc: 0.8740\n",
      "Epoch 4/8\n",
      "46000/46000 [==============================] - 59s 1ms/step - loss: 0.2913 - acc: 0.8930 - val_loss: 0.3850 - val_acc: 0.8708\n",
      "Epoch 5/8\n",
      "46000/46000 [==============================] - 58s 1ms/step - loss: 0.2621 - acc: 0.9032 - val_loss: 0.3690 - val_acc: 0.8781\n",
      "Epoch 6/8\n",
      "46000/46000 [==============================] - 58s 1ms/step - loss: 0.2389 - acc: 0.9090 - val_loss: 0.3833 - val_acc: 0.8792\n",
      "Epoch 7/8\n",
      "46000/46000 [==============================] - 58s 1ms/step - loss: 0.2200 - acc: 0.9156 - val_loss: 0.3751 - val_acc: 0.8794\n",
      "Epoch 8/8\n",
      "46000/46000 [==============================] - 58s 1ms/step - loss: 0.2038 - acc: 0.9205 - val_loss: 0.3897 - val_acc: 0.8780\n",
      "nc=32,node=448\n",
      "Train on 46000 samples, validate on 10000 samples\n",
      "Epoch 1/8\n",
      "46000/46000 [==============================] - 63s 1ms/step - loss: 0.8310 - acc: 0.7800 - val_loss: 0.4775 - val_acc: 0.8469\n",
      "Epoch 2/8\n",
      "46000/46000 [==============================] - 61s 1ms/step - loss: 0.3909 - acc: 0.8627 - val_loss: 0.4053 - val_acc: 0.8635\n",
      "Epoch 3/8\n",
      "46000/46000 [==============================] - 61s 1ms/step - loss: 0.3223 - acc: 0.8837 - val_loss: 0.3899 - val_acc: 0.8740\n",
      "Epoch 4/8\n",
      "46000/46000 [==============================] - 61s 1ms/step - loss: 0.2803 - acc: 0.8947 - val_loss: 0.3653 - val_acc: 0.8786\n",
      "Epoch 5/8\n",
      "46000/46000 [==============================] - 61s 1ms/step - loss: 0.2470 - acc: 0.9056 - val_loss: 0.3732 - val_acc: 0.8790\n",
      "Epoch 6/8\n",
      "46000/46000 [==============================] - 61s 1ms/step - loss: 0.2245 - acc: 0.9127 - val_loss: 0.3889 - val_acc: 0.8734\n",
      "Epoch 7/8\n",
      "46000/46000 [==============================] - 61s 1ms/step - loss: 0.2038 - acc: 0.9200 - val_loss: 0.3866 - val_acc: 0.8780\n",
      "Epoch 8/8\n",
      "46000/46000 [==============================] - 61s 1ms/step - loss: 0.1895 - acc: 0.9256 - val_loss: 0.4003 - val_acc: 0.8761\n",
      "nc=40,node=320\n",
      "Train on 46000 samples, validate on 10000 samples\n",
      "Epoch 1/8\n",
      "46000/46000 [==============================] - 72s 2ms/step - loss: 0.7113 - acc: 0.7892 - val_loss: 0.4624 - val_acc: 0.8470\n",
      "Epoch 2/8\n",
      "46000/46000 [==============================] - 76s 2ms/step - loss: 0.3717 - acc: 0.8683 - val_loss: 0.3713 - val_acc: 0.8695\n",
      "Epoch 3/8\n",
      "46000/46000 [==============================] - 70s 2ms/step - loss: 0.3081 - acc: 0.8891 - val_loss: 0.3742 - val_acc: 0.8725\n",
      "Epoch 4/8\n",
      "46000/46000 [==============================] - 71s 2ms/step - loss: 0.2702 - acc: 0.8975 - val_loss: 0.3625 - val_acc: 0.8789\n",
      "Epoch 5/8\n",
      "46000/46000 [==============================] - 70s 2ms/step - loss: 0.2395 - acc: 0.9074 - val_loss: 0.3652 - val_acc: 0.8756\n",
      "Epoch 6/8\n",
      "46000/46000 [==============================] - 70s 2ms/step - loss: 0.2171 - acc: 0.9156 - val_loss: 0.3814 - val_acc: 0.8750\n",
      "Epoch 7/8\n",
      "46000/46000 [==============================] - 71s 2ms/step - loss: 0.1967 - acc: 0.9228 - val_loss: 0.3803 - val_acc: 0.8768\n",
      "Epoch 8/8\n",
      "46000/46000 [==============================] - 71s 2ms/step - loss: 0.1831 - acc: 0.9267 - val_loss: 0.3785 - val_acc: 0.8786\n",
      "nc=40,node=384\n",
      "Train on 46000 samples, validate on 10000 samples\n",
      "Epoch 1/8\n",
      "46000/46000 [==============================] - 70s 2ms/step - loss: 0.7509 - acc: 0.7862 - val_loss: 0.4441 - val_acc: 0.8465\n",
      "Epoch 2/8\n",
      "46000/46000 [==============================] - 69s 2ms/step - loss: 0.3778 - acc: 0.8675 - val_loss: 0.3792 - val_acc: 0.8691\n",
      "Epoch 3/8\n",
      "46000/46000 [==============================] - 69s 2ms/step - loss: 0.3165 - acc: 0.8853 - val_loss: 0.3916 - val_acc: 0.8672\n",
      "Epoch 4/8\n",
      "46000/46000 [==============================] - 69s 2ms/step - loss: 0.2771 - acc: 0.8974 - val_loss: 0.3649 - val_acc: 0.8750\n",
      "Epoch 5/8\n",
      "46000/46000 [==============================] - 70s 2ms/step - loss: 0.2486 - acc: 0.9049 - val_loss: 0.3561 - val_acc: 0.8791\n",
      "Epoch 6/8\n",
      "46000/46000 [==============================] - 70s 2ms/step - loss: 0.2245 - acc: 0.9128 - val_loss: 0.3640 - val_acc: 0.8813\n",
      "Epoch 7/8\n",
      "46000/46000 [==============================] - 69s 2ms/step - loss: 0.2052 - acc: 0.9194 - val_loss: 0.3761 - val_acc: 0.8823\n",
      "Epoch 8/8\n",
      "46000/46000 [==============================] - 70s 2ms/step - loss: 0.1915 - acc: 0.9252 - val_loss: 0.3983 - val_acc: 0.8824\n",
      "nc=40,node=448\n",
      "Train on 46000 samples, validate on 10000 samples\n",
      "Epoch 1/8\n",
      "46000/46000 [==============================] - 74s 2ms/step - loss: 0.8051 - acc: 0.7795 - val_loss: 0.5280 - val_acc: 0.8251\n",
      "Epoch 2/8\n",
      "46000/46000 [==============================] - 78s 2ms/step - loss: 0.3920 - acc: 0.8632 - val_loss: 0.3846 - val_acc: 0.8642\n",
      "Epoch 3/8\n",
      "46000/46000 [==============================] - 77s 2ms/step - loss: 0.3228 - acc: 0.8827 - val_loss: 0.3765 - val_acc: 0.8719\n",
      "Epoch 4/8\n",
      "46000/46000 [==============================] - 71s 2ms/step - loss: 0.2829 - acc: 0.8955 - val_loss: 0.3778 - val_acc: 0.8732\n",
      "Epoch 5/8\n",
      "46000/46000 [==============================] - 71s 2ms/step - loss: 0.2494 - acc: 0.9052 - val_loss: 0.3731 - val_acc: 0.8770\n",
      "Epoch 6/8\n",
      "46000/46000 [==============================] - 72s 2ms/step - loss: 0.2253 - acc: 0.9132 - val_loss: 0.3756 - val_acc: 0.8777\n",
      "Epoch 7/8\n",
      "46000/46000 [==============================] - 72s 2ms/step - loss: 0.2030 - acc: 0.9196 - val_loss: 0.3984 - val_acc: 0.8738\n",
      "Epoch 8/8\n",
      "46000/46000 [==============================] - 72s 2ms/step - loss: 0.1875 - acc: 0.9262 - val_loss: 0.4055 - val_acc: 0.8746\n"
     ]
    }
   ],
   "source": [
    "history=[]\n",
    "nodes=np.array([320,384,448])\n",
    "nconvs=np.array([24,32,40])\n",
    "for i,nc in enumerate(nconvs):\n",
    "    for j,node in enumerate(nodes):\n",
    "        K.clear_session()\n",
    "        model = Sequential()\n",
    "        model.add(Conv2D(nc, (3, 3), \n",
    "                         padding='valid', \n",
    "                         input_shape=x_train.shape[1:],\n",
    "                         activation='relu'))\n",
    "        #model.add(BatchNormalization())\n",
    "        #model.add(Conv2D(32, (3, 3), padding='valid', activation='relu'))   #+0.01\n",
    "        model.add(MaxPooling2D(pool_size=(2, 2)))\n",
    "        model.add(BatchNormalization())\n",
    "        model.add(Conv2D(nc, (3, 3), padding='valid', activation='relu'))\n",
    "        model.add(MaxPooling2D(pool_size=(2, 2)))\n",
    "        #model.add(Conv2D(28, (3, 3), padding='valid', activation='relu'))   #+0.00\n",
    "        #model.add(BatchNormalization())\n",
    "\n",
    "        model.add(Flatten())\n",
    "        model.add(BatchNormalization())\n",
    "        model.add(Dense(node, activation='relu'))\n",
    "        model.add(BatchNormalization())\n",
    "        #model.add(Dense(62, activation='relu'))   #+0.01\n",
    "        #model.add(BatchNormalization())\n",
    "        opt = keras.optimizers.adam(lr=lrate, decay=decay)\n",
    "        model.add(Dense(num_classes, activation='softmax'))\n",
    "        model.compile(loss='categorical_crossentropy',\n",
    "              optimizer=opt,\n",
    "              metrics=['accuracy'])\n",
    "        print('nc={},node={}'.format(nc,node))\n",
    "        hist_basic = model.fit(x_train, y_train,batch_size=batch_size,\n",
    "                               epochs=epochs,validation_data=(x_test, y_test),shuffle=True)\n",
    "        history.append(hist_basic)\n",
    "        "
   ]
  },
  {
   "cell_type": "code",
   "execution_count": 306,
   "metadata": {},
   "outputs": [
    {
     "name": "stdout",
     "output_type": "stream",
     "text": [
      "[[0.8789 0.8795 0.8801]\n",
      " [0.8808 0.8794 0.879 ]\n",
      " [0.8789 0.8824 0.8777]]\n",
      "(3, 3)\n",
      "the best nconvs is 40,the best nnode is 384\n",
      "the maximum val_accuracy is 0.8824\n"
     ]
    }
   ],
   "source": [
    "h=np.zeros((9,1))\n",
    "for n in range(9):\n",
    "    h[n]=np.max(history[n].history['val_acc'])\n",
    "h1=h.reshape((len(nconvs),len(nodes)))\n",
    "print(h1)\n",
    "print(h1.shape)\n",
    "c=0\n",
    "for i,nc in enumerate(nconvs):\n",
    "    for j,node in enumerate(nodes):\n",
    "        if h1[i,j]>c:\n",
    "            c=h1[i,j]\n",
    "            convmax=nc\n",
    "            nodemax=node\n",
    "print('the best nconvs is {},the best nnode is {}'.format(convmax,nodemax))\n",
    "print('the maximum val_accuracy is {}'.format(np.max(h1)))"
   ]
  },
  {
   "cell_type": "code",
   "execution_count": null,
   "metadata": {
    "collapsed": true
   },
   "outputs": [],
   "source": [
    "# find the best parameters in adam optimizer"
   ]
  },
  {
   "cell_type": "code",
   "execution_count": 307,
   "metadata": {},
   "outputs": [
    {
     "name": "stdout",
     "output_type": "stream",
     "text": [
      "nlrate=0.5\n",
      "Train on 46000 samples, validate on 10000 samples\n",
      "Epoch 1/8\n",
      "46000/46000 [==============================] - 71s 2ms/step - loss: 15.3239 - acc: 0.0481 - val_loss: 15.3364 - val_acc: 0.0485\n",
      "Epoch 2/8\n",
      "46000/46000 [==============================] - 70s 2ms/step - loss: 15.3378 - acc: 0.0484 - val_loss: 15.3380 - val_acc: 0.0484\n",
      "Epoch 3/8\n",
      "46000/46000 [==============================] - 70s 2ms/step - loss: 15.3378 - acc: 0.0484 - val_loss: 15.3364 - val_acc: 0.0485\n",
      "Epoch 4/8\n",
      "46000/46000 [==============================] - 69s 2ms/step - loss: 15.3378 - acc: 0.0484 - val_loss: 15.3380 - val_acc: 0.0484\n",
      "Epoch 5/8\n",
      "46000/46000 [==============================] - 69s 2ms/step - loss: 15.3378 - acc: 0.0484 - val_loss: 15.3373 - val_acc: 0.0484\n",
      "Epoch 6/8\n",
      "46000/46000 [==============================] - 73s 2ms/step - loss: 15.3378 - acc: 0.0484 - val_loss: 15.3380 - val_acc: 0.0484\n",
      "Epoch 7/8\n",
      "46000/46000 [==============================] - 75s 2ms/step - loss: 15.3378 - acc: 0.0484 - val_loss: 15.3364 - val_acc: 0.0485\n",
      "Epoch 8/8\n",
      "46000/46000 [==============================] - 74s 2ms/step - loss: 15.3378 - acc: 0.0484 - val_loss: 15.3364 - val_acc: 0.0485\n",
      "nlrate=0.1\n",
      "Train on 46000 samples, validate on 10000 samples\n",
      "Epoch 1/8\n",
      "46000/46000 [==============================] - 75s 2ms/step - loss: 1.0963 - acc: 0.7346 - val_loss: 0.9226 - val_acc: 0.7157\n",
      "Epoch 2/8\n",
      "46000/46000 [==============================] - 75s 2ms/step - loss: 0.4747 - acc: 0.8390 - val_loss: 0.4604 - val_acc: 0.8503\n",
      "Epoch 3/8\n",
      "46000/46000 [==============================] - 75s 2ms/step - loss: 0.4100 - acc: 0.8592 - val_loss: 0.4354 - val_acc: 0.8538\n",
      "Epoch 4/8\n",
      "46000/46000 [==============================] - 74s 2ms/step - loss: 0.3737 - acc: 0.8695 - val_loss: 0.4122 - val_acc: 0.8661\n",
      "Epoch 5/8\n",
      "46000/46000 [==============================] - 73s 2ms/step - loss: 0.3481 - acc: 0.8754 - val_loss: 0.4121 - val_acc: 0.8616\n",
      "Epoch 6/8\n",
      "46000/46000 [==============================] - 70s 2ms/step - loss: 0.3329 - acc: 0.8828 - val_loss: 0.4099 - val_acc: 0.8646\n",
      "Epoch 7/8\n",
      "46000/46000 [==============================] - 70s 2ms/step - loss: 0.3160 - acc: 0.8868 - val_loss: 0.4043 - val_acc: 0.8681\n",
      "Epoch 8/8\n",
      "46000/46000 [==============================] - 71s 2ms/step - loss: 0.3060 - acc: 0.8900 - val_loss: 0.3969 - val_acc: 0.8676\n",
      "nlrate=0.05\n",
      "Train on 46000 samples, validate on 10000 samples\n",
      "Epoch 1/8\n",
      "46000/46000 [==============================] - 84s 2ms/step - loss: 0.7607 - acc: 0.7818 - val_loss: 0.5171 - val_acc: 0.8324\n",
      "Epoch 2/8\n",
      "46000/46000 [==============================] - 72s 2ms/step - loss: 0.3861 - acc: 0.8643 - val_loss: 0.3910 - val_acc: 0.8650\n",
      "Epoch 3/8\n",
      "46000/46000 [==============================] - 71s 2ms/step - loss: 0.3209 - acc: 0.8834 - val_loss: 0.3837 - val_acc: 0.8688\n",
      "Epoch 4/8\n",
      "46000/46000 [==============================] - 80s 2ms/step - loss: 0.2822 - acc: 0.8963 - val_loss: 0.4366 - val_acc: 0.8546\n",
      "Epoch 5/8\n",
      "46000/46000 [==============================] - 73s 2ms/step - loss: 0.2535 - acc: 0.9035 - val_loss: 0.3835 - val_acc: 0.8735\n",
      "Epoch 6/8\n",
      "46000/46000 [==============================] - 77s 2ms/step - loss: 0.2317 - acc: 0.9097 - val_loss: 0.3803 - val_acc: 0.8773\n",
      "Epoch 7/8\n",
      "46000/46000 [==============================] - 72s 2ms/step - loss: 0.2111 - acc: 0.9179 - val_loss: 0.3918 - val_acc: 0.8766\n",
      "Epoch 8/8\n",
      "46000/46000 [==============================] - 71s 2ms/step - loss: 0.1954 - acc: 0.9233 - val_loss: 0.3879 - val_acc: 0.8778\n",
      "nlrate=0.01\n",
      "Train on 46000 samples, validate on 10000 samples\n",
      "Epoch 1/8\n",
      "46000/46000 [==============================] - 74s 2ms/step - loss: 0.6256 - acc: 0.8043 - val_loss: 0.4380 - val_acc: 0.8444\n",
      "Epoch 2/8\n",
      "46000/46000 [==============================] - 72s 2ms/step - loss: 0.3671 - acc: 0.8697 - val_loss: 0.3794 - val_acc: 0.8731\n",
      "Epoch 3/8\n",
      "46000/46000 [==============================] - 73s 2ms/step - loss: 0.2971 - acc: 0.8896 - val_loss: 0.3908 - val_acc: 0.8694\n",
      "Epoch 4/8\n",
      "46000/46000 [==============================] - 78s 2ms/step - loss: 0.2508 - acc: 0.9035 - val_loss: 0.3646 - val_acc: 0.8789\n",
      "Epoch 5/8\n",
      "46000/46000 [==============================] - 74s 2ms/step - loss: 0.2177 - acc: 0.9149 - val_loss: 0.3810 - val_acc: 0.8764\n",
      "Epoch 6/8\n",
      "46000/46000 [==============================] - 74s 2ms/step - loss: 0.1913 - acc: 0.9236 - val_loss: 0.3842 - val_acc: 0.8768\n",
      "Epoch 7/8\n",
      "46000/46000 [==============================] - 71s 2ms/step - loss: 0.1673 - acc: 0.9328 - val_loss: 0.3969 - val_acc: 0.8751\n",
      "Epoch 8/8\n",
      "46000/46000 [==============================] - 72s 2ms/step - loss: 0.1506 - acc: 0.9382 - val_loss: 0.4106 - val_acc: 0.8787\n",
      "nlrate=0.005\n",
      "Train on 46000 samples, validate on 10000 samples\n",
      "Epoch 1/8\n",
      "46000/46000 [==============================] - 71s 2ms/step - loss: 0.6163 - acc: 0.8041 - val_loss: 0.4270 - val_acc: 0.8538\n",
      "Epoch 2/8\n",
      "46000/46000 [==============================] - 70s 2ms/step - loss: 0.3637 - acc: 0.8706 - val_loss: 0.3810 - val_acc: 0.8679\n",
      "Epoch 3/8\n",
      "46000/46000 [==============================] - 72s 2ms/step - loss: 0.2955 - acc: 0.8908 - val_loss: 0.3866 - val_acc: 0.8659\n",
      "Epoch 4/8\n",
      "46000/46000 [==============================] - 70s 2ms/step - loss: 0.2517 - acc: 0.9033 - val_loss: 0.3508 - val_acc: 0.8832\n",
      "Epoch 5/8\n",
      "46000/46000 [==============================] - 70s 2ms/step - loss: 0.2184 - acc: 0.9144 - val_loss: 0.3793 - val_acc: 0.8781\n",
      "Epoch 6/8\n",
      "46000/46000 [==============================] - 72s 2ms/step - loss: 0.1919 - acc: 0.9229 - val_loss: 0.4034 - val_acc: 0.8738\n",
      "Epoch 7/8\n",
      "46000/46000 [==============================] - 72s 2ms/step - loss: 0.1701 - acc: 0.9308 - val_loss: 0.3874 - val_acc: 0.8777\n",
      "Epoch 8/8\n",
      "46000/46000 [==============================] - 70s 2ms/step - loss: 0.1522 - acc: 0.9385 - val_loss: 0.3983 - val_acc: 0.8771\n"
     ]
    }
   ],
   "source": [
    "history1=[]\n",
    "nlrate=np.array([0.5,0.1,0.05,0.01,0.005])\n",
    "for i,lrate in enumerate(nlrate):\n",
    "    K.clear_session()\n",
    "    model = Sequential()\n",
    "    model.add(Conv2D(convmax, (3, 3), \n",
    "                     padding='valid', \n",
    "                     input_shape=x_train.shape[1:],\n",
    "                     activation='relu'))\n",
    "    #model.add(BatchNormalization())\n",
    "    #model.add(Conv2D(32, (3, 3), padding='valid', activation='relu'))   #+0.01\n",
    "    model.add(MaxPooling2D(pool_size=(2, 2)))\n",
    "    model.add(BatchNormalization())\n",
    "    model.add(Conv2D(convmax, (3, 3), padding='valid', activation='relu'))\n",
    "    model.add(MaxPooling2D(pool_size=(2, 2)))\n",
    "    #model.add(Conv2D(28, (3, 3), padding='valid', activation='relu'))   #+0.00\n",
    "    #model.add(BatchNormalization())\n",
    "\n",
    "    model.add(Flatten())\n",
    "    model.add(BatchNormalization())\n",
    "    model.add(Dense(nodemax, activation='relu'))\n",
    "    model.add(BatchNormalization())\n",
    "    #model.add(Dense(62, activation='relu'))   #+0.01\n",
    "    #model.add(BatchNormalization())\n",
    "    decay = lrate/epochs\n",
    "    opt = keras.optimizers.adam(lr=lrate, decay=decay)\n",
    "    model.add(Dense(num_classes, activation='softmax'))\n",
    "    model.compile(loss='categorical_crossentropy',optimizer=opt,metrics=['accuracy'])\n",
    "    print('nlrate={}'.format(lrate))\n",
    "    hist_basic = model.fit(x_train, y_train,batch_size=batch_size,epochs=epochs,\n",
    "                           validation_data=(x_test, y_test),shuffle=True)\n",
    "    history1.append(hist_basic)\n",
    "        "
   ]
  },
  {
   "cell_type": "code",
   "execution_count": 308,
   "metadata": {},
   "outputs": [
    {
     "name": "stdout",
     "output_type": "stream",
     "text": [
      "[[0.0485]\n",
      " [0.8681]\n",
      " [0.8778]\n",
      " [0.8789]\n",
      " [0.8832]]\n",
      "the best nlrate is 0.005\n",
      "the maximum val_accuracy is 0.8832\n"
     ]
    }
   ],
   "source": [
    "hh=np.zeros((5,1))\n",
    "for n in range(5):\n",
    "    hh[n]=np.max(history1[n].history['val_acc'])\n",
    "print(hh)\n",
    "c=0\n",
    "for i,lrate in enumerate(nlrate):\n",
    "    if hh[i]>c:\n",
    "        c=hh[i]\n",
    "        lratemax=lrate\n",
    "print('the best nlrate is {}'.format(lratemax))\n",
    "print('the maximum val_accuracy is {}'.format(np.max(hh)))"
   ]
  },
  {
   "cell_type": "code",
   "execution_count": 19,
   "metadata": {},
   "outputs": [
    {
     "name": "stdout",
     "output_type": "stream",
     "text": [
      "_________________________________________________________________\n",
      "Layer (type)                 Output Shape              Param #   \n",
      "=================================================================\n",
      "conv2d_1 (Conv2D)            (None, 26, 26, 32)        320       \n",
      "_________________________________________________________________\n",
      "max_pooling2d_1 (MaxPooling2 (None, 13, 13, 32)        0         \n",
      "_________________________________________________________________\n",
      "dropout_1 (Dropout)          (None, 13, 13, 32)        0         \n",
      "_________________________________________________________________\n",
      "batch_normalization_1 (Batch (None, 13, 13, 32)        128       \n",
      "_________________________________________________________________\n",
      "conv2d_2 (Conv2D)            (None, 11, 11, 32)        9248      \n",
      "_________________________________________________________________\n",
      "max_pooling2d_2 (MaxPooling2 (None, 5, 5, 32)          0         \n",
      "_________________________________________________________________\n",
      "dropout_2 (Dropout)          (None, 5, 5, 32)          0         \n",
      "_________________________________________________________________\n",
      "flatten_1 (Flatten)          (None, 800)               0         \n",
      "_________________________________________________________________\n",
      "batch_normalization_2 (Batch (None, 800)               3200      \n",
      "_________________________________________________________________\n",
      "dense_1 (Dense)              (None, 512)               410112    \n",
      "_________________________________________________________________\n",
      "batch_normalization_3 (Batch (None, 512)               2048      \n",
      "_________________________________________________________________\n",
      "dropout_3 (Dropout)          (None, 512)               0         \n",
      "_________________________________________________________________\n",
      "dense_2 (Dense)              (None, 47)                24111     \n",
      "=================================================================\n",
      "Total params: 449,167\n",
      "Trainable params: 446,479\n",
      "Non-trainable params: 2,688\n",
      "_________________________________________________________________\n",
      "None\n",
      "Train on 46000 samples, validate on 10000 samples\n",
      "Epoch 1/8\n",
      "46000/46000 [==============================] - 72s 2ms/step - loss: 1.3759 - acc: 0.6288 - val_loss: 0.5408 - val_acc: 0.8247\n",
      "Epoch 2/8\n",
      "46000/46000 [==============================] - 73s 2ms/step - loss: 0.7441 - acc: 0.7658 - val_loss: 0.4594 - val_acc: 0.8515\n",
      "Epoch 3/8\n",
      "46000/46000 [==============================] - 68s 1ms/step - loss: 0.6293 - acc: 0.7939 - val_loss: 0.4471 - val_acc: 0.8543\n",
      "Epoch 4/8\n",
      "46000/46000 [==============================] - 67s 1ms/step - loss: 0.5839 - acc: 0.8069 - val_loss: 0.4046 - val_acc: 0.8635\n",
      "Epoch 5/8\n",
      "46000/46000 [==============================] - 67s 1ms/step - loss: 0.5515 - acc: 0.8158 - val_loss: 0.3880 - val_acc: 0.8694\n",
      "Epoch 6/8\n",
      "46000/46000 [==============================] - 67s 1ms/step - loss: 0.5279 - acc: 0.8240 - val_loss: 0.3807 - val_acc: 0.8707\n",
      "Epoch 7/8\n",
      "46000/46000 [==============================] - 68s 1ms/step - loss: 0.5115 - acc: 0.8296 - val_loss: 0.3806 - val_acc: 0.8692\n",
      "Epoch 8/8\n",
      "46000/46000 [==============================] - 68s 1ms/step - loss: 0.4951 - acc: 0.8330 - val_loss: 0.3661 - val_acc: 0.8736\n",
      "Done!\n"
     ]
    }
   ],
   "source": [
    "K.clear_session()\n",
    "model = Sequential()\n",
    "model.add(Conv2D(32, (3, 3), \n",
    "                 padding='valid', \n",
    "                 input_shape=x_train.shape[1:],\n",
    "                 activation='relu'))\n",
    "model.add(MaxPooling2D(pool_size=(2, 2)))\n",
    "model.add(Dropout(0.15))\n",
    "model.add(BatchNormalization())\n",
    "model.add(Conv2D(32, (3, 3), padding='valid', activation='relu'))\n",
    "model.add(MaxPooling2D(pool_size=(2, 2)))\n",
    "model.add(Dropout(0.45))\n",
    "model.add(Flatten())\n",
    "model.add(BatchNormalization())\n",
    "model.add(Dense(512, activation='relu'))\n",
    "model.add(BatchNormalization())\n",
    "model.add(Dropout(0.6))\n",
    "model.add(Dense(num_classes, activation='softmax'))\n",
    "model.compile(loss='categorical_crossentropy',\n",
    "              optimizer='adadelta',\n",
    "              metrics=['accuracy'])\n",
    "print(model.summary())\n",
    "seed=7\n",
    "# Fit the model\n",
    "np.random.seed(seed)\n",
    "hist_basic = model.fit(x_train, y_train,batch_size=batch_size,epochs=epochs,validation_data=(x_test, y_test),shuffle=True)\n",
    "\n",
    "print('Done!')"
   ]
  },
  {
   "cell_type": "code",
   "execution_count": 20,
   "metadata": {},
   "outputs": [
    {
     "name": "stdout",
     "output_type": "stream",
     "text": [
      "nc=16,node=512\n",
      "Train on 46000 samples, validate on 10000 samples\n",
      "Epoch 1/8\n",
      "46000/46000 [==============================] - 37s 796us/step - loss: 1.2729 - acc: 0.6410 - val_loss: 0.5674 - val_acc: 0.8055\n",
      "Epoch 2/8\n",
      "46000/46000 [==============================] - 36s 779us/step - loss: 0.7804 - acc: 0.7468 - val_loss: 0.4584 - val_acc: 0.8478\n",
      "Epoch 3/8\n",
      "46000/46000 [==============================] - 36s 773us/step - loss: 0.6805 - acc: 0.7771 - val_loss: 0.4319 - val_acc: 0.8491\n",
      "Epoch 4/8\n",
      "46000/46000 [==============================] - 36s 775us/step - loss: 0.6393 - acc: 0.7880 - val_loss: 0.4124 - val_acc: 0.8636\n",
      "Epoch 5/8\n",
      "46000/46000 [==============================] - 36s 779us/step - loss: 0.5937 - acc: 0.8018 - val_loss: 0.3883 - val_acc: 0.8653\n",
      "Epoch 6/8\n",
      "46000/46000 [==============================] - 37s 805us/step - loss: 0.5775 - acc: 0.8049 - val_loss: 0.3867 - val_acc: 0.8647\n",
      "Epoch 7/8\n",
      "46000/46000 [==============================] - 37s 808us/step - loss: 0.5607 - acc: 0.8110 - val_loss: 0.3786 - val_acc: 0.8699\n",
      "Epoch 8/8\n",
      "46000/46000 [==============================] - 37s 815us/step - loss: 0.5412 - acc: 0.8159 - val_loss: 0.3699 - val_acc: 0.8688\n",
      "nc=16,node=640\n",
      "Train on 46000 samples, validate on 10000 samples\n",
      "Epoch 1/8\n",
      "46000/46000 [==============================] - 41s 901us/step - loss: 1.3346 - acc: 0.6392 - val_loss: 0.6212 - val_acc: 0.8090\n",
      "Epoch 2/8\n",
      "46000/46000 [==============================] - 40s 867us/step - loss: 0.8131 - acc: 0.7401 - val_loss: 0.4785 - val_acc: 0.8366\n",
      "Epoch 3/8\n",
      "46000/46000 [==============================] - 40s 869us/step - loss: 0.6981 - acc: 0.7670 - val_loss: 0.4590 - val_acc: 0.8447\n",
      "Epoch 4/8\n",
      "46000/46000 [==============================] - 40s 869us/step - loss: 0.6484 - acc: 0.7845 - val_loss: 0.4146 - val_acc: 0.8608\n",
      "Epoch 5/8\n",
      "46000/46000 [==============================] - 40s 869us/step - loss: 0.6149 - acc: 0.7942 - val_loss: 0.4003 - val_acc: 0.8615\n",
      "Epoch 6/8\n",
      "46000/46000 [==============================] - 42s 909us/step - loss: 0.5765 - acc: 0.8076 - val_loss: 0.3867 - val_acc: 0.8673\n",
      "Epoch 7/8\n",
      "46000/46000 [==============================] - 40s 876us/step - loss: 0.5633 - acc: 0.8073 - val_loss: 0.3749 - val_acc: 0.8695\n",
      "Epoch 8/8\n",
      "46000/46000 [==============================] - 40s 880us/step - loss: 0.5497 - acc: 0.8138 - val_loss: 0.3660 - val_acc: 0.8719\n",
      "nc=16,node=768\n",
      "Train on 46000 samples, validate on 10000 samples\n",
      "Epoch 1/8\n",
      "46000/46000 [==============================] - 44s 947us/step - loss: 1.3598 - acc: 0.6418 - val_loss: 0.5219 - val_acc: 0.8391\n",
      "Epoch 2/8\n",
      "46000/46000 [==============================] - 42s 915us/step - loss: 0.7936 - acc: 0.7502 - val_loss: 0.4434 - val_acc: 0.8509\n",
      "Epoch 3/8\n",
      "46000/46000 [==============================] - 42s 914us/step - loss: 0.6773 - acc: 0.7789 - val_loss: 0.4229 - val_acc: 0.8539\n",
      "Epoch 4/8\n",
      "46000/46000 [==============================] - 42s 918us/step - loss: 0.6164 - acc: 0.7935 - val_loss: 0.4258 - val_acc: 0.8542\n",
      "Epoch 5/8\n",
      "46000/46000 [==============================] - 43s 936us/step - loss: 0.5852 - acc: 0.8010 - val_loss: 0.4110 - val_acc: 0.8607\n",
      "Epoch 6/8\n",
      "46000/46000 [==============================] - 41s 897us/step - loss: 0.5554 - acc: 0.8106 - val_loss: 0.3787 - val_acc: 0.8684\n",
      "Epoch 7/8\n",
      "46000/46000 [==============================] - 42s 903us/step - loss: 0.5415 - acc: 0.8161 - val_loss: 0.3738 - val_acc: 0.8702\n",
      "Epoch 8/8\n",
      "46000/46000 [==============================] - 41s 901us/step - loss: 0.5295 - acc: 0.8191 - val_loss: 0.3640 - val_acc: 0.8723\n",
      "nc=32,node=512\n",
      "Train on 46000 samples, validate on 10000 samples\n",
      "Epoch 1/8\n",
      "46000/46000 [==============================] - 68s 1ms/step - loss: 1.1349 - acc: 0.6782 - val_loss: 0.5100 - val_acc: 0.8386\n",
      "Epoch 2/8\n",
      "46000/46000 [==============================] - 67s 1ms/step - loss: 0.6749 - acc: 0.7797 - val_loss: 0.4271 - val_acc: 0.8536\n",
      "Epoch 3/8\n",
      "46000/46000 [==============================] - 67s 1ms/step - loss: 0.5776 - acc: 0.8067 - val_loss: 0.3877 - val_acc: 0.8683\n",
      "Epoch 4/8\n",
      "46000/46000 [==============================] - 67s 1ms/step - loss: 0.5389 - acc: 0.8187 - val_loss: 0.3714 - val_acc: 0.8711\n",
      "Epoch 5/8\n",
      "46000/46000 [==============================] - 67s 1ms/step - loss: 0.5080 - acc: 0.8282 - val_loss: 0.3638 - val_acc: 0.8730\n",
      "Epoch 6/8\n",
      "46000/46000 [==============================] - 67s 1ms/step - loss: 0.4843 - acc: 0.8330 - val_loss: 0.3535 - val_acc: 0.8802\n",
      "Epoch 7/8\n",
      "46000/46000 [==============================] - 67s 1ms/step - loss: 0.4644 - acc: 0.8391 - val_loss: 0.3509 - val_acc: 0.8767\n",
      "Epoch 8/8\n",
      "46000/46000 [==============================] - 67s 1ms/step - loss: 0.4511 - acc: 0.8435 - val_loss: 0.3407 - val_acc: 0.8809\n",
      "nc=32,node=640\n",
      "Train on 46000 samples, validate on 10000 samples\n",
      "Epoch 1/8\n",
      "46000/46000 [==============================] - 69s 2ms/step - loss: 1.1723 - acc: 0.6795 - val_loss: 0.4996 - val_acc: 0.8317\n",
      "Epoch 2/8\n",
      "46000/46000 [==============================] - 68s 1ms/step - loss: 0.6826 - acc: 0.7793 - val_loss: 0.4339 - val_acc: 0.8549\n",
      "Epoch 3/8\n",
      "46000/46000 [==============================] - 68s 1ms/step - loss: 0.5816 - acc: 0.8035 - val_loss: 0.3944 - val_acc: 0.8654\n",
      "Epoch 4/8\n",
      "46000/46000 [==============================] - 67s 1ms/step - loss: 0.5239 - acc: 0.8205 - val_loss: 0.3891 - val_acc: 0.8635\n",
      "Epoch 5/8\n",
      "46000/46000 [==============================] - 68s 1ms/step - loss: 0.4963 - acc: 0.8290 - val_loss: 0.3595 - val_acc: 0.8764\n",
      "Epoch 6/8\n",
      "46000/46000 [==============================] - 68s 1ms/step - loss: 0.4777 - acc: 0.8348 - val_loss: 0.3571 - val_acc: 0.8767\n",
      "Epoch 7/8\n",
      "46000/46000 [==============================] - 68s 1ms/step - loss: 0.4546 - acc: 0.8417 - val_loss: 0.3523 - val_acc: 0.8781\n",
      "Epoch 8/8\n",
      "46000/46000 [==============================] - 68s 1ms/step - loss: 0.4429 - acc: 0.8455 - val_loss: 0.3452 - val_acc: 0.8840\n",
      "nc=32,node=768\n",
      "Train on 46000 samples, validate on 10000 samples\n",
      "Epoch 1/8\n",
      "46000/46000 [==============================] - 71s 2ms/step - loss: 1.2270 - acc: 0.6756 - val_loss: 0.5179 - val_acc: 0.8399\n",
      "Epoch 2/8\n",
      "46000/46000 [==============================] - 70s 2ms/step - loss: 0.6895 - acc: 0.7800 - val_loss: 0.4390 - val_acc: 0.8503\n",
      "Epoch 3/8\n",
      "46000/46000 [==============================] - 70s 2ms/step - loss: 0.5845 - acc: 0.8052 - val_loss: 0.3838 - val_acc: 0.8710\n",
      "Epoch 4/8\n",
      "46000/46000 [==============================] - 70s 2ms/step - loss: 0.5290 - acc: 0.8210 - val_loss: 0.3860 - val_acc: 0.8665\n",
      "Epoch 5/8\n",
      "46000/46000 [==============================] - 70s 2ms/step - loss: 0.4901 - acc: 0.8312 - val_loss: 0.3652 - val_acc: 0.8731\n",
      "Epoch 6/8\n",
      "46000/46000 [==============================] - 70s 2ms/step - loss: 0.4714 - acc: 0.8367 - val_loss: 0.3511 - val_acc: 0.8763\n",
      "Epoch 7/8\n",
      "46000/46000 [==============================] - 70s 2ms/step - loss: 0.4517 - acc: 0.8417 - val_loss: 0.3434 - val_acc: 0.8797\n",
      "Epoch 8/8\n",
      "46000/46000 [==============================] - 70s 2ms/step - loss: 0.4396 - acc: 0.8448 - val_loss: 0.3443 - val_acc: 0.8774\n",
      "nc=48,node=512\n",
      "Train on 46000 samples, validate on 10000 samples\n",
      "Epoch 1/8\n",
      "46000/46000 [==============================] - 98s 2ms/step - loss: 1.0758 - acc: 0.6925 - val_loss: 0.5251 - val_acc: 0.8308\n",
      "Epoch 2/8\n",
      "46000/46000 [==============================] - 97s 2ms/step - loss: 0.6324 - acc: 0.7931 - val_loss: 0.4158 - val_acc: 0.8581\n",
      "Epoch 3/8\n",
      "46000/46000 [==============================] - 96s 2ms/step - loss: 0.5486 - acc: 0.8146 - val_loss: 0.3914 - val_acc: 0.8617\n",
      "Epoch 4/8\n",
      "46000/46000 [==============================] - 96s 2ms/step - loss: 0.4994 - acc: 0.8279 - val_loss: 0.3591 - val_acc: 0.8746\n",
      "Epoch 5/8\n",
      "46000/46000 [==============================] - 97s 2ms/step - loss: 0.4665 - acc: 0.8383 - val_loss: 0.3488 - val_acc: 0.8789\n",
      "Epoch 6/8\n",
      "46000/46000 [==============================] - 97s 2ms/step - loss: 0.4476 - acc: 0.8434 - val_loss: 0.3461 - val_acc: 0.8825\n",
      "Epoch 7/8\n",
      "46000/46000 [==============================] - 97s 2ms/step - loss: 0.4322 - acc: 0.8489 - val_loss: 0.3383 - val_acc: 0.8843\n",
      "Epoch 8/8\n",
      "46000/46000 [==============================] - 97s 2ms/step - loss: 0.4181 - acc: 0.8538 - val_loss: 0.3354 - val_acc: 0.8843\n",
      "nc=48,node=640\n",
      "Train on 46000 samples, validate on 10000 samples\n",
      "Epoch 1/8\n"
     ]
    },
    {
     "name": "stdout",
     "output_type": "stream",
     "text": [
      "46000/46000 [==============================] - 98s 2ms/step - loss: 1.1281 - acc: 0.6913 - val_loss: 0.5035 - val_acc: 0.8354\n",
      "Epoch 2/8\n",
      "46000/46000 [==============================] - 98s 2ms/step - loss: 0.6516 - acc: 0.7875 - val_loss: 0.4171 - val_acc: 0.8629\n",
      "Epoch 3/8\n",
      "46000/46000 [==============================] - 97s 2ms/step - loss: 0.5504 - acc: 0.8166 - val_loss: 0.4056 - val_acc: 0.8603\n",
      "Epoch 4/8\n",
      "46000/46000 [==============================] - 98s 2ms/step - loss: 0.4978 - acc: 0.8319 - val_loss: 0.3809 - val_acc: 0.8651\n",
      "Epoch 5/8\n",
      "46000/46000 [==============================] - 97s 2ms/step - loss: 0.4719 - acc: 0.8366 - val_loss: 0.3474 - val_acc: 0.8803\n",
      "Epoch 6/8\n",
      "46000/46000 [==============================] - 98s 2ms/step - loss: 0.4444 - acc: 0.8439 - val_loss: 0.3524 - val_acc: 0.8758\n",
      "Epoch 7/8\n",
      "46000/46000 [==============================] - 97s 2ms/step - loss: 0.4270 - acc: 0.8517 - val_loss: 0.3423 - val_acc: 0.8798\n",
      "Epoch 8/8\n",
      "46000/46000 [==============================] - 97s 2ms/step - loss: 0.4150 - acc: 0.8538 - val_loss: 0.3395 - val_acc: 0.8797\n",
      "nc=48,node=768\n",
      "Train on 46000 samples, validate on 10000 samples\n",
      "Epoch 1/8\n",
      "46000/46000 [==============================] - 103s 2ms/step - loss: 1.1533 - acc: 0.6935 - val_loss: 0.5473 - val_acc: 0.8152\n",
      "Epoch 2/8\n",
      "46000/46000 [==============================] - 101s 2ms/step - loss: 0.6521 - acc: 0.7908 - val_loss: 0.4104 - val_acc: 0.8612\n",
      "Epoch 3/8\n",
      "46000/46000 [==============================] - 101s 2ms/step - loss: 0.5419 - acc: 0.8181 - val_loss: 0.3869 - val_acc: 0.8659\n",
      "Epoch 4/8\n",
      "46000/46000 [==============================] - 101s 2ms/step - loss: 0.4921 - acc: 0.8304 - val_loss: 0.3684 - val_acc: 0.8692\n",
      "Epoch 5/8\n",
      "46000/46000 [==============================] - 101s 2ms/step - loss: 0.4597 - acc: 0.8403 - val_loss: 0.3562 - val_acc: 0.8767\n",
      "Epoch 6/8\n",
      "46000/46000 [==============================] - 108s 2ms/step - loss: 0.4366 - acc: 0.8469 - val_loss: 0.3424 - val_acc: 0.8768\n",
      "Epoch 7/8\n",
      "46000/46000 [==============================] - 106s 2ms/step - loss: 0.4199 - acc: 0.8522 - val_loss: 0.3447 - val_acc: 0.8776\n",
      "Epoch 8/8\n",
      "46000/46000 [==============================] - 107s 2ms/step - loss: 0.4030 - acc: 0.8551 - val_loss: 0.3310 - val_acc: 0.8817\n"
     ]
    }
   ],
   "source": [
    "history=[]\n",
    "nodes=np.array([512,640,768])\n",
    "nconvs=np.array([16,32,48])\n",
    "for i,nc in enumerate(nconvs):\n",
    "    for j,node in enumerate(nodes):\n",
    "        K.clear_session()\n",
    "        model = Sequential()\n",
    "        model.add(Conv2D(nc, (3, 3), \n",
    "                         padding='valid', \n",
    "                         input_shape=x_train.shape[1:],\n",
    "                         activation='relu'))\n",
    "        #model.add(BatchNormalization())\n",
    "        #model.add(Conv2D(32, (3, 3), padding='valid', activation='relu'))   #+0.01\n",
    "        model.add(MaxPooling2D(pool_size=(2, 2)))\n",
    "        model.add(Dropout(0.15))\n",
    "        model.add(BatchNormalization())\n",
    "        model.add(Conv2D(nc, (3, 3), padding='valid', activation='relu'))\n",
    "        model.add(MaxPooling2D(pool_size=(2, 2)))\n",
    "        #model.add(Conv2D(28, (3, 3), padding='valid', activation='relu'))   #+0.00\n",
    "        #model.add(BatchNormalization())\n",
    "        model.add(Dropout(0.45))\n",
    "\n",
    "        model.add(Flatten())\n",
    "        model.add(BatchNormalization())\n",
    "        model.add(Dense(node, activation='relu'))\n",
    "        model.add(BatchNormalization())\n",
    "        #model.add(Dense(62, activation='relu'))   #+0.01\n",
    "        #model.add(BatchNormalization())\n",
    "        model.add(Dropout(0.6))\n",
    "        model.add(Dense(num_classes, activation='softmax'))\n",
    "        decay = 0.005/epochs\n",
    "        opt = keras.optimizers.adam(lr=0.005, decay=decay)\n",
    "        model.compile(loss='categorical_crossentropy',\n",
    "              optimizer=opt,\n",
    "              metrics=['accuracy'])\n",
    "        print('nc={},node={}'.format(nc,node))\n",
    "        hist_basic = model.fit(x_train, y_train,batch_size=batch_size,\n",
    "                               epochs=epochs,validation_data=(x_test, y_test),shuffle=True)\n",
    "        history.append(hist_basic)\n",
    "        "
   ]
  },
  {
   "cell_type": "code",
   "execution_count": 21,
   "metadata": {},
   "outputs": [
    {
     "name": "stdout",
     "output_type": "stream",
     "text": [
      "[[0.8699 0.8719 0.8723]\n",
      " [0.8809 0.884  0.8797]\n",
      " [0.8843 0.8803 0.8817]]\n",
      "(3, 3)\n",
      "the best nconvs is 48,the best nnode is 512\n",
      "the maximum val_accuracy is 0.8843\n"
     ]
    }
   ],
   "source": [
    "h=np.zeros((9,1))\n",
    "for n in range(9):\n",
    "    h[n]=np.max(history[n].history['val_acc'])\n",
    "h1=h.reshape((len(nconvs),len(nodes)))\n",
    "print(h1)\n",
    "print(h1.shape)\n",
    "c=0\n",
    "for i,nc in enumerate(nconvs):\n",
    "    for j,node in enumerate(nodes):\n",
    "        if h1[i,j]>c:\n",
    "            c=h1[i,j]\n",
    "            convmax=nc\n",
    "            nodemax=node\n",
    "print('the best nconvs is {},the best nnode is {}'.format(convmax,nodemax))\n",
    "print('the maximum val_accuracy is {}'.format(np.max(h1)))"
   ]
  },
  {
   "cell_type": "code",
   "execution_count": 22,
   "metadata": {},
   "outputs": [
    {
     "name": "stdout",
     "output_type": "stream",
     "text": [
      "nc=40,node=384\n",
      "Train on 46000 samples, validate on 10000 samples\n",
      "Epoch 1/8\n",
      "46000/46000 [==============================] - 82s 2ms/step - loss: 1.0752 - acc: 0.6863 - val_loss: 0.4895 - val_acc: 0.8375\n",
      "Epoch 2/8\n",
      "46000/46000 [==============================] - 75s 2ms/step - loss: 0.6582 - acc: 0.7842 - val_loss: 0.4107 - val_acc: 0.8603\n",
      "Epoch 3/8\n",
      "46000/46000 [==============================] - 79s 2ms/step - loss: 0.5750 - acc: 0.8083 - val_loss: 0.3882 - val_acc: 0.8663\n",
      "Epoch 4/8\n",
      "46000/46000 [==============================] - 81s 2ms/step - loss: 0.5250 - acc: 0.8217 - val_loss: 0.3738 - val_acc: 0.8697\n",
      "Epoch 5/8\n",
      "46000/46000 [==============================] - 81s 2ms/step - loss: 0.5053 - acc: 0.8291 - val_loss: 0.3694 - val_acc: 0.8748\n",
      "Epoch 6/8\n",
      "46000/46000 [==============================] - 82s 2ms/step - loss: 0.4780 - acc: 0.8376 - val_loss: 0.3529 - val_acc: 0.8781\n",
      "Epoch 7/8\n",
      "46000/46000 [==============================] - 79s 2ms/step - loss: 0.4576 - acc: 0.8413 - val_loss: 0.3447 - val_acc: 0.8788\n",
      "Epoch 8/8\n",
      "46000/46000 [==============================] - 84s 2ms/step - loss: 0.4474 - acc: 0.8456 - val_loss: 0.3397 - val_acc: 0.8798\n",
      "nc=40,node=448\n",
      "Train on 46000 samples, validate on 10000 samples\n",
      "Epoch 1/8\n",
      "46000/46000 [==============================] - 85s 2ms/step - loss: 1.1003 - acc: 0.6875 - val_loss: 0.5015 - val_acc: 0.8349\n",
      "Epoch 2/8\n",
      "46000/46000 [==============================] - 88s 2ms/step - loss: 0.6545 - acc: 0.7861 - val_loss: 0.4229 - val_acc: 0.8571\n",
      "Epoch 3/8\n",
      "46000/46000 [==============================] - 92s 2ms/step - loss: 0.5659 - acc: 0.8091 - val_loss: 0.4093 - val_acc: 0.8632\n",
      "Epoch 4/8\n",
      "46000/46000 [==============================] - 86s 2ms/step - loss: 0.5264 - acc: 0.8199 - val_loss: 0.3847 - val_acc: 0.8644\n",
      "Epoch 5/8\n",
      "46000/46000 [==============================] - 88s 2ms/step - loss: 0.4991 - acc: 0.8288 - val_loss: 0.3658 - val_acc: 0.8745\n",
      "Epoch 6/8\n",
      "46000/46000 [==============================] - 99s 2ms/step - loss: 0.4678 - acc: 0.8405 - val_loss: 0.3589 - val_acc: 0.8762\n",
      "Epoch 7/8\n",
      "46000/46000 [==============================] - 93s 2ms/step - loss: 0.4561 - acc: 0.8428 - val_loss: 0.3537 - val_acc: 0.8793\n",
      "Epoch 8/8\n",
      "46000/46000 [==============================] - 90s 2ms/step - loss: 0.4425 - acc: 0.8459 - val_loss: 0.3403 - val_acc: 0.8818\n",
      "nc=40,node=512\n",
      "Train on 46000 samples, validate on 10000 samples\n",
      "Epoch 1/8\n",
      "46000/46000 [==============================] - 98s 2ms/step - loss: 1.1038 - acc: 0.6884 - val_loss: 0.4882 - val_acc: 0.8383\n",
      "Epoch 2/8\n",
      "46000/46000 [==============================] - 96s 2ms/step - loss: 0.6549 - acc: 0.7887 - val_loss: 0.4467 - val_acc: 0.8471\n",
      "Epoch 3/8\n",
      "46000/46000 [==============================] - 91s 2ms/step - loss: 0.5650 - acc: 0.8113 - val_loss: 0.3991 - val_acc: 0.8631\n",
      "Epoch 4/8\n",
      "46000/46000 [==============================] - 92s 2ms/step - loss: 0.5174 - acc: 0.8247 - val_loss: 0.3805 - val_acc: 0.8693\n",
      "Epoch 5/8\n",
      "46000/46000 [==============================] - 90s 2ms/step - loss: 0.4929 - acc: 0.8307 - val_loss: 0.3537 - val_acc: 0.8781\n",
      "Epoch 6/8\n",
      "46000/46000 [==============================] - 100s 2ms/step - loss: 0.4641 - acc: 0.8397 - val_loss: 0.3490 - val_acc: 0.8791\n",
      "Epoch 7/8\n",
      "46000/46000 [==============================] - 102s 2ms/step - loss: 0.4499 - acc: 0.8444 - val_loss: 0.3433 - val_acc: 0.8791\n",
      "Epoch 8/8\n",
      "46000/46000 [==============================] - 92s 2ms/step - loss: 0.4319 - acc: 0.8479 - val_loss: 0.3436 - val_acc: 0.8790\n",
      "nc=48,node=384\n",
      "Train on 46000 samples, validate on 10000 samples\n",
      "Epoch 1/8\n",
      "46000/46000 [==============================] - 100s 2ms/step - loss: 1.0457 - acc: 0.6952 - val_loss: 0.5170 - val_acc: 0.8286\n",
      "Epoch 2/8\n",
      "46000/46000 [==============================] - 101s 2ms/step - loss: 0.6355 - acc: 0.7892 - val_loss: 0.4384 - val_acc: 0.8501\n",
      "Epoch 3/8\n",
      "46000/46000 [==============================] - 108s 2ms/step - loss: 0.5656 - acc: 0.8097 - val_loss: 0.4064 - val_acc: 0.8556\n",
      "Epoch 4/8\n",
      "46000/46000 [==============================] - 102s 2ms/step - loss: 0.5124 - acc: 0.8260 - val_loss: 0.3686 - val_acc: 0.8742\n",
      "Epoch 5/8\n",
      "46000/46000 [==============================] - 102s 2ms/step - loss: 0.4886 - acc: 0.8347 - val_loss: 0.3578 - val_acc: 0.8749\n",
      "Epoch 6/8\n",
      "46000/46000 [==============================] - 101s 2ms/step - loss: 0.4681 - acc: 0.8403 - val_loss: 0.3511 - val_acc: 0.8768\n",
      "Epoch 7/8\n",
      "46000/46000 [==============================] - 104s 2ms/step - loss: 0.4450 - acc: 0.8450 - val_loss: 0.3398 - val_acc: 0.8808\n",
      "Epoch 8/8\n",
      "46000/46000 [==============================] - 110s 2ms/step - loss: 0.4361 - acc: 0.8478 - val_loss: 0.3323 - val_acc: 0.8835\n",
      "nc=48,node=448\n",
      "Train on 46000 samples, validate on 10000 samples\n",
      "Epoch 1/8\n",
      "46000/46000 [==============================] - 105s 2ms/step - loss: 1.0653 - acc: 0.6941 - val_loss: 0.4666 - val_acc: 0.8464\n",
      "Epoch 2/8\n",
      "46000/46000 [==============================] - 109s 2ms/step - loss: 0.6332 - acc: 0.7906 - val_loss: 0.4300 - val_acc: 0.8522\n",
      "Epoch 3/8\n",
      "46000/46000 [==============================] - 104s 2ms/step - loss: 0.5474 - acc: 0.8136 - val_loss: 0.3901 - val_acc: 0.8679\n",
      "Epoch 4/8\n",
      "46000/46000 [==============================] - 106s 2ms/step - loss: 0.5023 - acc: 0.8280 - val_loss: 0.3654 - val_acc: 0.8744\n",
      "Epoch 5/8\n",
      "46000/46000 [==============================] - 106s 2ms/step - loss: 0.4734 - acc: 0.8393 - val_loss: 0.3648 - val_acc: 0.8719\n",
      "Epoch 6/8\n",
      "46000/46000 [==============================] - 109s 2ms/step - loss: 0.4594 - acc: 0.8401 - val_loss: 0.3515 - val_acc: 0.8803\n",
      "Epoch 7/8\n",
      "46000/46000 [==============================] - 118s 3ms/step - loss: 0.4406 - acc: 0.8487 - val_loss: 0.3416 - val_acc: 0.8836\n",
      "Epoch 8/8\n",
      "46000/46000 [==============================] - 107s 2ms/step - loss: 0.4247 - acc: 0.8513 - val_loss: 0.3481 - val_acc: 0.8810\n",
      "nc=48,node=512\n",
      "Train on 46000 samples, validate on 10000 samples\n",
      "Epoch 1/8\n",
      "46000/46000 [==============================] - 113s 2ms/step - loss: 1.0833 - acc: 0.6926 - val_loss: 0.5314 - val_acc: 0.8313\n",
      "Epoch 2/8\n",
      "46000/46000 [==============================] - 114s 2ms/step - loss: 0.6381 - acc: 0.7911 - val_loss: 0.4092 - val_acc: 0.8555\n",
      "Epoch 3/8\n",
      "46000/46000 [==============================] - 114s 2ms/step - loss: 0.5485 - acc: 0.8146 - val_loss: 0.3858 - val_acc: 0.8728\n",
      "Epoch 4/8\n",
      "46000/46000 [==============================] - 99s 2ms/step - loss: 0.5069 - acc: 0.8273 - val_loss: 0.3635 - val_acc: 0.8770\n",
      "Epoch 5/8\n",
      "46000/46000 [==============================] - 101s 2ms/step - loss: 0.4704 - acc: 0.8380 - val_loss: 0.3632 - val_acc: 0.8734\n",
      "Epoch 6/8\n",
      "46000/46000 [==============================] - 99s 2ms/step - loss: 0.4558 - acc: 0.8431 - val_loss: 0.3424 - val_acc: 0.8828\n",
      "Epoch 7/8\n",
      "46000/46000 [==============================] - 99s 2ms/step - loss: 0.4355 - acc: 0.8485 - val_loss: 0.3460 - val_acc: 0.8811\n",
      "Epoch 8/8\n",
      "46000/46000 [==============================] - 99s 2ms/step - loss: 0.4149 - acc: 0.8541 - val_loss: 0.3302 - val_acc: 0.8845\n",
      "nc=56,node=384\n",
      "Train on 46000 samples, validate on 10000 samples\n",
      "Epoch 1/8\n",
      "46000/46000 [==============================] - 115s 3ms/step - loss: 1.0240 - acc: 0.7032 - val_loss: 0.5051 - val_acc: 0.8292\n",
      "Epoch 2/8\n",
      "46000/46000 [==============================] - 113s 2ms/step - loss: 0.6298 - acc: 0.7922 - val_loss: 0.4298 - val_acc: 0.8581\n",
      "Epoch 3/8\n",
      "46000/46000 [==============================] - 113s 2ms/step - loss: 0.5586 - acc: 0.8143 - val_loss: 0.3833 - val_acc: 0.8642\n",
      "Epoch 4/8\n",
      "46000/46000 [==============================] - 111s 2ms/step - loss: 0.5036 - acc: 0.8298 - val_loss: 0.3682 - val_acc: 0.8732\n",
      "Epoch 5/8\n",
      "46000/46000 [==============================] - 111s 2ms/step - loss: 0.4776 - acc: 0.8373 - val_loss: 0.3636 - val_acc: 0.8758\n",
      "Epoch 6/8\n",
      "46000/46000 [==============================] - 111s 2ms/step - loss: 0.4537 - acc: 0.8428 - val_loss: 0.3483 - val_acc: 0.8798\n",
      "Epoch 7/8\n",
      "46000/46000 [==============================] - 112s 2ms/step - loss: 0.4362 - acc: 0.8463 - val_loss: 0.3468 - val_acc: 0.8785\n",
      "Epoch 8/8\n",
      "46000/46000 [==============================] - 112s 2ms/step - loss: 0.4271 - acc: 0.8500 - val_loss: 0.3345 - val_acc: 0.8839\n",
      "nc=56,node=448\n",
      "Train on 46000 samples, validate on 10000 samples\n",
      "Epoch 1/8\n"
     ]
    },
    {
     "name": "stdout",
     "output_type": "stream",
     "text": [
      "46000/46000 [==============================] - 111s 2ms/step - loss: 1.0446 - acc: 0.6986 - val_loss: 0.5040 - val_acc: 0.8311\n",
      "Epoch 2/8\n",
      "46000/46000 [==============================] - 110s 2ms/step - loss: 0.6290 - acc: 0.7943 - val_loss: 0.4286 - val_acc: 0.8554\n",
      "Epoch 3/8\n",
      "46000/46000 [==============================] - 110s 2ms/step - loss: 0.5382 - acc: 0.8173 - val_loss: 0.3962 - val_acc: 0.8671\n",
      "Epoch 4/8\n",
      "46000/46000 [==============================] - 110s 2ms/step - loss: 0.4979 - acc: 0.8320 - val_loss: 0.3711 - val_acc: 0.8693\n",
      "Epoch 5/8\n",
      "46000/46000 [==============================] - 110s 2ms/step - loss: 0.4682 - acc: 0.8381 - val_loss: 0.3619 - val_acc: 0.8786\n",
      "Epoch 6/8\n",
      "46000/46000 [==============================] - 110s 2ms/step - loss: 0.4456 - acc: 0.8440 - val_loss: 0.3439 - val_acc: 0.8809\n",
      "Epoch 7/8\n",
      "46000/46000 [==============================] - 110s 2ms/step - loss: 0.4272 - acc: 0.8510 - val_loss: 0.3545 - val_acc: 0.8796\n",
      "Epoch 8/8\n",
      "46000/46000 [==============================] - 110s 2ms/step - loss: 0.4074 - acc: 0.8566 - val_loss: 0.3356 - val_acc: 0.8836\n",
      "nc=56,node=512\n",
      "Train on 46000 samples, validate on 10000 samples\n",
      "Epoch 1/8\n",
      "46000/46000 [==============================] - 114s 2ms/step - loss: 1.0466 - acc: 0.7035 - val_loss: 0.4966 - val_acc: 0.8411\n",
      "Epoch 2/8\n",
      "46000/46000 [==============================] - 113s 2ms/step - loss: 0.6194 - acc: 0.7956 - val_loss: 0.4209 - val_acc: 0.8579\n",
      "Epoch 3/8\n",
      "46000/46000 [==============================] - 113s 2ms/step - loss: 0.5297 - acc: 0.8215 - val_loss: 0.3742 - val_acc: 0.8702\n",
      "Epoch 4/8\n",
      "46000/46000 [==============================] - 112s 2ms/step - loss: 0.4857 - acc: 0.8341 - val_loss: 0.3782 - val_acc: 0.8707\n",
      "Epoch 5/8\n",
      "46000/46000 [==============================] - 112s 2ms/step - loss: 0.4574 - acc: 0.8446 - val_loss: 0.3570 - val_acc: 0.8791\n",
      "Epoch 6/8\n",
      "46000/46000 [==============================] - 112s 2ms/step - loss: 0.4387 - acc: 0.8469 - val_loss: 0.3459 - val_acc: 0.8762\n",
      "Epoch 7/8\n",
      "46000/46000 [==============================] - 112s 2ms/step - loss: 0.4168 - acc: 0.8547 - val_loss: 0.3332 - val_acc: 0.8839\n",
      "Epoch 8/8\n",
      "46000/46000 [==============================] - 113s 2ms/step - loss: 0.4045 - acc: 0.8574 - val_loss: 0.3380 - val_acc: 0.8825\n"
     ]
    }
   ],
   "source": [
    "history=[]\n",
    "nodes=np.array([384,448,512])\n",
    "nconvs=np.array([40,48,56])\n",
    "for i,nc in enumerate(nconvs):\n",
    "    for j,node in enumerate(nodes):\n",
    "        K.clear_session()\n",
    "        model = Sequential()\n",
    "        model.add(Conv2D(nc, (3, 3), \n",
    "                         padding='valid', \n",
    "                         input_shape=x_train.shape[1:],\n",
    "                         activation='relu'))\n",
    "        #model.add(BatchNormalization())\n",
    "        #model.add(Conv2D(32, (3, 3), padding='valid', activation='relu'))   #+0.01\n",
    "        model.add(MaxPooling2D(pool_size=(2, 2)))\n",
    "        model.add(Dropout(0.15))\n",
    "        model.add(BatchNormalization())\n",
    "        model.add(Conv2D(nc, (3, 3), padding='valid', activation='relu'))\n",
    "        model.add(MaxPooling2D(pool_size=(2, 2)))\n",
    "        #model.add(Conv2D(28, (3, 3), padding='valid', activation='relu'))   #+0.00\n",
    "        #model.add(BatchNormalization())\n",
    "        model.add(Dropout(0.45))\n",
    "\n",
    "        model.add(Flatten())\n",
    "        model.add(BatchNormalization())\n",
    "        model.add(Dense(node, activation='relu'))\n",
    "        model.add(BatchNormalization())\n",
    "        #model.add(Dense(62, activation='relu'))   #+0.01\n",
    "        #model.add(BatchNormalization())\n",
    "        model.add(Dropout(0.6))\n",
    "        model.add(Dense(num_classes, activation='softmax'))\n",
    "        decay = 0.005/epochs\n",
    "        opt = keras.optimizers.adam(lr=0.005, decay=decay)\n",
    "        model.compile(loss='categorical_crossentropy',\n",
    "              optimizer=opt,\n",
    "              metrics=['accuracy'])\n",
    "        print('nc={},node={}'.format(nc,node))\n",
    "        hist_basic = model.fit(x_train, y_train,batch_size=batch_size,\n",
    "                               epochs=epochs,validation_data=(x_test, y_test),shuffle=True)\n",
    "        history.append(hist_basic)\n",
    "        "
   ]
  },
  {
   "cell_type": "code",
   "execution_count": 23,
   "metadata": {},
   "outputs": [
    {
     "name": "stdout",
     "output_type": "stream",
     "text": [
      "[[0.8798 0.8818 0.8791]\n",
      " [0.8835 0.8836 0.8845]\n",
      " [0.8839 0.8836 0.8839]]\n",
      "(3, 3)\n",
      "the best nconvs is 48,the best nnode is 512\n",
      "the maximum val_accuracy is 0.8845\n"
     ]
    }
   ],
   "source": [
    "h=np.zeros((9,1))\n",
    "for n in range(9):\n",
    "    h[n]=np.max(history[n].history['val_acc'])\n",
    "h1=h.reshape((len(nconvs),len(nodes)))\n",
    "print(h1)\n",
    "print(h1.shape)\n",
    "c=0\n",
    "for i,nc in enumerate(nconvs):\n",
    "    for j,node in enumerate(nodes):\n",
    "        if h1[i,j]>c:\n",
    "            c=h1[i,j]\n",
    "            convmax=nc\n",
    "            nodemax=node\n",
    "print('the best nconvs is {},the best nnode is {}'.format(convmax,nodemax))\n",
    "print('the maximum val_accuracy is {}'.format(np.max(h1)))"
   ]
  },
  {
   "cell_type": "code",
   "execution_count": null,
   "metadata": {
    "collapsed": true
   },
   "outputs": [],
   "source": []
  }
 ],
 "metadata": {
  "kernelspec": {
   "display_name": "Python 3",
   "language": "python",
   "name": "python3"
  },
  "language_info": {
   "codemirror_mode": {
    "name": "ipython",
    "version": 3
   },
   "file_extension": ".py",
   "mimetype": "text/x-python",
   "name": "python",
   "nbconvert_exporter": "python",
   "pygments_lexer": "ipython3",
   "version": "3.6.3"
  }
 },
 "nbformat": 4,
 "nbformat_minor": 2
}
