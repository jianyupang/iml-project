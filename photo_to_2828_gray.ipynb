{
 "cells": [
  {
   "cell_type": "markdown",
   "metadata": {},
   "source": [
    "## Load handwritten image and predict with trained model"
   ]
  },
  {
   "cell_type": "code",
   "execution_count": 68,
   "metadata": {},
   "outputs": [],
   "source": [
    "import cv2\n",
    "import numpy as np\n",
    "from matplotlib import pyplot as plt\n",
    "%matplotlib inline\n",
    "import keras\n",
    "from keras.models import load_model\n",
    "from __future__ import print_function\n",
    "# from keras.datasets import cifar10\n",
    "from keras.preprocessing.image import ImageDataGenerator\n",
    "from keras.models import Sequential\n",
    "from keras.models import load_model #save and load models\n",
    "from keras.layers import Dense, Dropout, Activation, Flatten\n",
    "from keras.layers import Conv2D, MaxPooling2D\n",
    "from keras.layers.normalization import BatchNormalization\n",
    "import keras.backend as K\n"
   ]
  },
  {
   "cell_type": "code",
   "execution_count": 69,
   "metadata": {},
   "outputs": [
    {
     "data": {
      "image/png": "[encoded data removed]",
      "text/plain": [
       "<matplotlib.figure.Figure at 0x181d9b16d8>"
      ]
     },
     "metadata": {},
     "output_type": "display_data"
    }
   ],
   "source": [
    "img = cv2.imread('y2.jpg',0)\n",
    "img = ~cv2.resize(img, (28,28)) \n",
    "img = cv2.medianBlur(img,3)\n",
    "ret,th1 = cv2.threshold(img,127,255,cv2.THRESH_BINARY)\n",
    "th2 = cv2.adaptiveThreshold(img,255,cv2.ADAPTIVE_THRESH_MEAN_C,\\\n",
    "            cv2.THRESH_BINARY,11,2)\n",
    "th3 = cv2.adaptiveThreshold(img,255,cv2.ADAPTIVE_THRESH_GAUSSIAN_C,\\\n",
    "            cv2.THRESH_BINARY,11,2)\n",
    "titles = ['Original Image', 'Global Thresholding (v = 127)',\n",
    "            'Adaptive Mean Thresholding', 'Adaptive Gaussian Thresholding']\n",
    "images = [img, th1, th2, th3]\n",
    "for i in range(4):\n",
    "    plt.subplot(2,2,i+1),plt.imshow(images[i],'gray')\n",
    "    plt.title(titles[i])\n",
    "    plt.xticks([]),plt.yticks([])\n",
    "plt.show()"
   ]
  },
  {
   "cell_type": "code",
   "execution_count": 70,
   "metadata": {
    "collapsed": true
   },
   "outputs": [],
   "source": [
    "# choose a proper method\n",
    "img=images[1]\n",
    "#plt.imshow(img,cmap='Greys_r')\n",
    "imgp=np.reshape(img,(1,28,28,1))\n",
    "imgp = imgp.astype('float32')\n",
    "imgp /= 255"
   ]
  },
  {
   "cell_type": "code",
   "execution_count": 71,
   "metadata": {},
   "outputs": [
    {
     "name": "stdout",
     "output_type": "stream",
     "text": [
      "[[1.06626149e-15 4.87074756e-11 3.65751029e-15 4.35271827e-13\n",
      "  3.99492183e-06 4.12458045e-12 1.80574468e-13 3.71933396e-07\n",
      "  1.64713132e-09 1.02083719e-08 2.48088242e-15 4.84509675e-16\n",
      "  1.20266254e-17 3.55851379e-16 1.83958073e-16 1.02931767e-10\n",
      "  1.47933374e-10 1.03054738e-10 6.54673538e-11 5.49474866e-09\n",
      "  1.65078049e-08 4.95824104e-10 1.77552223e-10 3.25840549e-10\n",
      "  1.34115163e-15 5.81523496e-09 8.78099016e-08 1.37316192e-09\n",
      "  1.39481178e-14 1.83621243e-08 2.15513215e-11 2.28713049e-08\n",
      "  8.12713168e-08 1.01595585e-08 9.99995351e-01 7.74949834e-14]]\n",
      "34\n",
      "y\n"
     ]
    }
   ],
   "source": [
    "K.clear_session()\n",
    "model = load_model(\"emnist_BatchNormalization_32.h5\")\n",
    "preds = model.predict(imgp)\n",
    "print(preds)\n",
    "print(np.argmax(preds))\n",
    "if np.argmax(preds)<10:\n",
    "    ascii=48+np.argmax(preds)\n",
    "else:\n",
    "    ascii=87+np.argmax(preds)\n",
    "print(chr(ascii))"
   ]
  },
  {
   "cell_type": "code",
   "execution_count": null,
   "metadata": {
    "collapsed": true
   },
   "outputs": [],
   "source": []
  }
 ],
 "metadata": {
  "kernelspec": {
   "display_name": "Python 3",
   "language": "python",
   "name": "python3"
  },
  "language_info": {
   "codemirror_mode": {
    "name": "ipython",
    "version": 3
   },
   "file_extension": ".py",
   "mimetype": "text/x-python",
   "name": "python",
   "nbconvert_exporter": "python",
   "pygments_lexer": "ipython3",
   "version": "3.6.3"
  }
 },
 "nbformat": 4,
 "nbformat_minor": 2
}
