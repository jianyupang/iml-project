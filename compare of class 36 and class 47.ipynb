{
 "cells": [
  {
   "cell_type": "code",
   "execution_count": 18,
   "metadata": {},
   "outputs": [],
   "source": [
    "import keras\n",
    "import numpy as np\n",
    "import matplotlib.pyplot as plt\n",
    "%matplotlib inline"
   ]
  },
  {
   "cell_type": "code",
   "execution_count": 19,
   "metadata": {
    "collapsed": true
   },
   "outputs": [],
   "source": [
    "import scipy.io\n",
    "def load_emnist(file_path='emnist-bymerge.mat'):\n",
    "    \"\"\"\n",
    "    Loads training and test data with ntr and nts training and test samples\n",
    "    The `file_path` is the location of the `eminst-balanced.mat`.\n",
    "    \"\"\"    \n",
    "    \n",
    "    # Load the MATLAB file\n",
    "    mat = scipy.io.loadmat(file_path)\n",
    "    \n",
    "    # Get the training data\n",
    "    Xtr = mat['dataset'][0][0][0][0][0][0][:]\n",
    "    ntr = Xtr.shape[0]\n",
    "    ytr = mat['dataset'][0][0][0][0][0][1][:].reshape(ntr).astype(int)\n",
    "    \n",
    "    # Get the test data\n",
    "    Xts = mat['dataset'][0][0][1][0][0][0][:]\n",
    "    nts = Xts.shape[0]\n",
    "    yts = mat['dataset'][0][0][1][0][0][1][:].reshape(nts).astype(int)\n",
    "    \n",
    "    print(\"%d training samples, %d test samples loaded\" % (ntr, nts))\n",
    "\n",
    "    return [Xtr, Xts, ytr, yts]"
   ]
  },
  {
   "cell_type": "code",
   "execution_count": 20,
   "metadata": {},
   "outputs": [
    {
     "name": "stdout",
     "output_type": "stream",
     "text": [
      "697932 training samples, 116323 test samples loaded\n"
     ]
    }
   ],
   "source": [
    "Xtr, Xts, ytr, yts = load_emnist()"
   ]
  },
  {
   "cell_type": "code",
   "execution_count": 21,
   "metadata": {},
   "outputs": [
    {
     "name": "stdout",
     "output_type": "stream",
     "text": [
      "(697932, 784) (116323, 784) (697932,) (116323,)\n"
     ]
    }
   ],
   "source": [
    "print(Xtr.shape,Xts.shape,ytr.shape,yts.shape)"
   ]
  },
  {
   "cell_type": "code",
   "execution_count": 22,
   "metadata": {
    "collapsed": true
   },
   "outputs": [],
   "source": [
    "Xtrd=np.reshape(Xtr,(697932,28,28),order='F')\n",
    "Xtsd=np.reshape(Xts,(116323,28,28),order='F')"
   ]
  },
  {
   "cell_type": "code",
   "execution_count": 23,
   "metadata": {},
   "outputs": [
    {
     "data": {
      "text/plain": [
       "<matplotlib.image.AxesImage at 0x1847fc3ef0>"
      ]
     },
     "execution_count": 23,
     "metadata": {},
     "output_type": "execute_result"
    },
    {
     "data": {
      "image/png": "[encoded data removed]",
      "text/plain": [
       "<matplotlib.figure.Figure at 0x1847f1df60>"
      ]
     },
     "metadata": {},
     "output_type": "display_data"
    }
   ],
   "source": [
    "plt.subplot(1,2,1)\n",
    "plt.imshow(Xtrd[np.random.randint(1,20000),:,:],cmap='Greys_r')\n",
    "plt.subplot(1,2,2)\n",
    "plt.imshow(Xtsd[np.random.randint(1,10000),:,:],cmap='Greys_r')"
   ]
  },
  {
   "cell_type": "code",
   "execution_count": 24,
   "metadata": {
    "collapsed": true
   },
   "outputs": [],
   "source": [
    "ntr = 35000\n",
    "nts = 10000\n",
    "\n",
    "# TODO: proper decide the number of samples and the ratio between dig and let\n",
    "\n",
    "# Create sub-sampled training and test data\n",
    "nsamp = Xtr.shape[0]\n",
    "Iperm = np.random.permutation(nsamp)\n",
    "Xtr1 = Xtrd[Iperm[:ntr],:,:]\n",
    "ytr1 = ytr[Iperm[:ntr]]\n",
    "nsamp = Xts.shape[0]\n",
    "Iperm = np.random.permutation(nsamp)\n",
    "Xts1 = Xtsd[Iperm[:nts],:,:]\n",
    "yts1 = yts[Iperm[:nts]]"
   ]
  },
  {
   "cell_type": "code",
   "execution_count": 25,
   "metadata": {
    "collapsed": true
   },
   "outputs": [],
   "source": [
    "# first we do it in 47 classes and add a dense layer to 36 classes"
   ]
  },
  {
   "cell_type": "code",
   "execution_count": 26,
   "metadata": {
    "collapsed": true
   },
   "outputs": [],
   "source": [
    "from __future__ import print_function\n",
    "# from keras.datasets import cifar10\n",
    "from keras.preprocessing.image import ImageDataGenerator\n",
    "from keras.models import Sequential\n",
    "from keras.models import load_model #save and load models\n",
    "from keras.layers import Dense, Dropout, Activation, Flatten\n",
    "from keras.layers import Conv2D, MaxPooling2D\n",
    "from keras.layers.normalization import BatchNormalization\n",
    "import keras.backend as K"
   ]
  },
  {
   "cell_type": "code",
   "execution_count": 27,
   "metadata": {},
   "outputs": [
    {
     "name": "stdout",
     "output_type": "stream",
     "text": [
      "(35000, 28, 28, 1) (10000, 28, 28, 1) (35000, 1) (10000, 1)\n"
     ]
    }
   ],
   "source": [
    "x_train = Xtr1.astype('float32')\n",
    "x_test = Xts1.astype('float32')\n",
    "x_train /= 255\n",
    "x_test /= 255\n",
    "x_train=x_train.reshape((ntr,28,28,1))\n",
    "x_test=x_test.reshape((nts,28,28,1))\n",
    "y_train=ytr1.reshape((len(ytr1),1))\n",
    "y_test=yts1.reshape((len(yts1),1))\n",
    "print(x_train.shape,x_test.shape,y_train.shape,y_test.shape)"
   ]
  },
  {
   "cell_type": "code",
   "execution_count": 28,
   "metadata": {
    "collapsed": true
   },
   "outputs": [],
   "source": [
    "r=np.where(y_train==36)\n",
    "y_train[r]=10\n",
    "t=np.where(y_test==36)\n",
    "y_test[t]=10\n",
    "\n",
    "r=np.where(y_train==37)\n",
    "y_train[r]=11\n",
    "t=np.where(y_test==37)\n",
    "y_test[t]=11\n",
    "\n",
    "r=np.where(y_train==38)\n",
    "y_train[r]=13\n",
    "t=np.where(y_test==38)\n",
    "y_test[t]=13\n",
    "\n",
    "r=np.where(y_train==39)\n",
    "y_train[r]=14\n",
    "t=np.where(y_test==39)\n",
    "y_test[t]=14\n",
    "\n",
    "r=np.where(y_train==40)\n",
    "y_train[r]=15\n",
    "t=np.where(y_test==40)\n",
    "y_test[t]=15\n",
    "\n",
    "r=np.where(y_train==41)\n",
    "y_train[r]=16\n",
    "t=np.where(y_test==41)\n",
    "y_test[t]=16\n",
    "\n",
    "r=np.where(y_train==42)\n",
    "y_train[r]=17\n",
    "t=np.where(y_test==42)\n",
    "y_test[t]=17\n",
    "\n",
    "r=np.where(y_train==43)\n",
    "y_train[r]=23\n",
    "t=np.where(y_test==43)\n",
    "y_test[t]=23\n",
    "\n",
    "r=np.where(y_train==44)\n",
    "y_train[r]=26\n",
    "t=np.where(y_test==44)\n",
    "y_test[t]=26\n",
    "\n",
    "r=np.where(y_train==45)\n",
    "y_train[r]=27\n",
    "t=np.where(y_test==45)\n",
    "y_test[t]=27\n",
    "\n",
    "r=np.where(y_train==46)\n",
    "y_train[r]=29\n",
    "t=np.where(y_test==46)\n",
    "y_test[t]=29"
   ]
  },
  {
   "cell_type": "code",
   "execution_count": 29,
   "metadata": {
    "collapsed": true
   },
   "outputs": [],
   "source": [
    "batch_size = 64\n",
    "epochs = 8\n",
    "lrate = 0.05\n",
    "decay = lrate/epochs"
   ]
  },
  {
   "cell_type": "code",
   "execution_count": 30,
   "metadata": {},
   "outputs": [],
   "source": [
    "# TODO: 36/62 channels?\n",
    "K.clear_session()\n",
    "model = Sequential()\n",
    "model.add(Conv2D(32, (3, 3), \n",
    "                 padding='valid', \n",
    "                 input_shape=x_train.shape[1:],\n",
    "                 activation='relu'))\n",
    "#model.add(BatchNormalization())\n",
    "#model.add(Conv2D(32, (3, 3), padding='valid', activation='relu'))   #+0.01\n",
    "model.add(MaxPooling2D(pool_size=(2, 2)))\n",
    "model.add(BatchNormalization())\n",
    "model.add(Conv2D(32, (3, 3), padding='valid', activation='relu'))\n",
    "model.add(MaxPooling2D(pool_size=(2, 2)))\n",
    "#model.add(Conv2D(28, (3, 3), padding='valid', activation='relu'))   #+0.00\n",
    "#model.add(BatchNormalization())\n",
    "\n",
    "model.add(Flatten())\n",
    "model.add(BatchNormalization())\n",
    "model.add(Dense(512, activation='relu'))\n",
    "model.add(BatchNormalization())\n",
    "#model.add(Dense(62, activation='relu'))   #+0.01\n",
    "#model.add(BatchNormalization())\n",
    "model.add(Dense(47, activation='relu'))\n",
    "model.add(BatchNormalization())\n",
    "model.add(Dense(36, activation='softmax'))"
   ]
  },
  {
   "cell_type": "code",
   "execution_count": 31,
   "metadata": {},
   "outputs": [
    {
     "name": "stdout",
     "output_type": "stream",
     "text": [
      "_________________________________________________________________\n",
      "Layer (type)                 Output Shape              Param #   \n",
      "=================================================================\n",
      "conv2d_1 (Conv2D)            (None, 26, 26, 32)        320       \n",
      "_________________________________________________________________\n",
      "max_pooling2d_1 (MaxPooling2 (None, 13, 13, 32)        0         \n",
      "_________________________________________________________________\n",
      "batch_normalization_1 (Batch (None, 13, 13, 32)        128       \n",
      "_________________________________________________________________\n",
      "conv2d_2 (Conv2D)            (None, 11, 11, 32)        9248      \n",
      "_________________________________________________________________\n",
      "max_pooling2d_2 (MaxPooling2 (None, 5, 5, 32)          0         \n",
      "_________________________________________________________________\n",
      "flatten_1 (Flatten)          (None, 800)               0         \n",
      "_________________________________________________________________\n",
      "batch_normalization_2 (Batch (None, 800)               3200      \n",
      "_________________________________________________________________\n",
      "dense_1 (Dense)              (None, 512)               410112    \n",
      "_________________________________________________________________\n",
      "batch_normalization_3 (Batch (None, 512)               2048      \n",
      "_________________________________________________________________\n",
      "dense_2 (Dense)              (None, 47)                24111     \n",
      "_________________________________________________________________\n",
      "batch_normalization_4 (Batch (None, 47)                188       \n",
      "_________________________________________________________________\n",
      "dense_3 (Dense)              (None, 36)                1728      \n",
      "=================================================================\n",
      "Total params: 451,083\n",
      "Trainable params: 448,301\n",
      "Non-trainable params: 2,782\n",
      "_________________________________________________________________\n",
      "None\n"
     ]
    }
   ],
   "source": [
    "# initiate Adam optimizer\n",
    "opt = keras.optimizers.adam(lr=lrate, decay=decay)\n",
    "\n",
    "# Let's train the model using Adam\n",
    "model.compile(loss='sparse_categorical_crossentropy',\n",
    "              optimizer=opt,\n",
    "              metrics=['accuracy'])\n",
    "print(model.summary())"
   ]
  },
  {
   "cell_type": "code",
   "execution_count": 32,
   "metadata": {},
   "outputs": [
    {
     "name": "stdout",
     "output_type": "stream",
     "text": [
      "Train on 35000 samples, validate on 10000 samples\n",
      "Epoch 1/8\n",
      "35000/35000 [==============================] - 52s 1ms/step - loss: 0.6977 - acc: 0.7706 - val_loss: 0.4569 - val_acc: 0.8496\n",
      "Epoch 2/8\n",
      "35000/35000 [==============================] - 52s 1ms/step - loss: 0.3757 - acc: 0.8621 - val_loss: 0.3938 - val_acc: 0.8617\n",
      "Epoch 3/8\n",
      "35000/35000 [==============================] - 48s 1ms/step - loss: 0.3037 - acc: 0.8843 - val_loss: 0.3504 - val_acc: 0.8775\n",
      "Epoch 4/8\n",
      "35000/35000 [==============================] - 47s 1ms/step - loss: 0.2695 - acc: 0.8966 - val_loss: 0.3471 - val_acc: 0.8806\n",
      "Epoch 5/8\n",
      "35000/35000 [==============================] - 48s 1ms/step - loss: 0.2368 - acc: 0.9068 - val_loss: 0.3508 - val_acc: 0.8787\n",
      "Epoch 6/8\n",
      "35000/35000 [==============================] - 49s 1ms/step - loss: 0.2137 - acc: 0.9151 - val_loss: 0.3557 - val_acc: 0.8801\n",
      "Epoch 7/8\n",
      "35000/35000 [==============================] - 52s 1ms/step - loss: 0.1946 - acc: 0.9219 - val_loss: 0.3670 - val_acc: 0.8792\n",
      "Epoch 8/8\n",
      "35000/35000 [==============================] - 51s 1ms/step - loss: 0.1833 - acc: 0.9253 - val_loss: 0.3582 - val_acc: 0.8858\n",
      "Done!\n"
     ]
    }
   ],
   "source": [
    "seed=7\n",
    "np.random.seed(seed)\n",
    "hist_basic = model.fit(x_train, y_train,batch_size=batch_size,epochs=epochs,\n",
    "                       validation_data=(x_test, y_test),shuffle=True)\n",
    "print('Done!')"
   ]
  },
  {
   "cell_type": "code",
   "execution_count": null,
   "metadata": {
    "collapsed": true
   },
   "outputs": [],
   "source": [
    "# then we go directly through 36 classes"
   ]
  },
  {
   "cell_type": "code",
   "execution_count": 33,
   "metadata": {},
   "outputs": [
    {
     "name": "stdout",
     "output_type": "stream",
     "text": [
      "_________________________________________________________________\n",
      "Layer (type)                 Output Shape              Param #   \n",
      "=================================================================\n",
      "conv2d_1 (Conv2D)            (None, 26, 26, 32)        320       \n",
      "_________________________________________________________________\n",
      "max_pooling2d_1 (MaxPooling2 (None, 13, 13, 32)        0         \n",
      "_________________________________________________________________\n",
      "batch_normalization_1 (Batch (None, 13, 13, 32)        128       \n",
      "_________________________________________________________________\n",
      "conv2d_2 (Conv2D)            (None, 11, 11, 32)        9248      \n",
      "_________________________________________________________________\n",
      "max_pooling2d_2 (MaxPooling2 (None, 5, 5, 32)          0         \n",
      "_________________________________________________________________\n",
      "flatten_1 (Flatten)          (None, 800)               0         \n",
      "_________________________________________________________________\n",
      "batch_normalization_2 (Batch (None, 800)               3200      \n",
      "_________________________________________________________________\n",
      "dense_1 (Dense)              (None, 512)               410112    \n",
      "_________________________________________________________________\n",
      "batch_normalization_3 (Batch (None, 512)               2048      \n",
      "_________________________________________________________________\n",
      "dense_2 (Dense)              (None, 36)                18468     \n",
      "=================================================================\n",
      "Total params: 443,524\n",
      "Trainable params: 440,836\n",
      "Non-trainable params: 2,688\n",
      "_________________________________________________________________\n",
      "None\n",
      "Train on 35000 samples, validate on 10000 samples\n",
      "Epoch 1/8\n",
      "35000/35000 [==============================] - 51s 1ms/step - loss: 0.9570 - acc: 0.7564 - val_loss: 0.4963 - val_acc: 0.8372\n",
      "Epoch 2/8\n",
      "35000/35000 [==============================] - 52s 1ms/step - loss: 0.3930 - acc: 0.8570 - val_loss: 0.3889 - val_acc: 0.8643\n",
      "Epoch 3/8\n",
      "35000/35000 [==============================] - 52s 1ms/step - loss: 0.3132 - acc: 0.8823 - val_loss: 0.3793 - val_acc: 0.8734\n",
      "Epoch 4/8\n",
      "35000/35000 [==============================] - 49s 1ms/step - loss: 0.2749 - acc: 0.8936 - val_loss: 0.3576 - val_acc: 0.8794\n",
      "Epoch 5/8\n",
      "35000/35000 [==============================] - 51s 1ms/step - loss: 0.2373 - acc: 0.9089 - val_loss: 0.3739 - val_acc: 0.8784\n",
      "Epoch 6/8\n",
      "35000/35000 [==============================] - 49s 1ms/step - loss: 0.2178 - acc: 0.9138 - val_loss: 0.3711 - val_acc: 0.8791\n",
      "Epoch 7/8\n",
      "35000/35000 [==============================] - 48s 1ms/step - loss: 0.1978 - acc: 0.9197 - val_loss: 0.3774 - val_acc: 0.8785\n",
      "Epoch 8/8\n",
      "35000/35000 [==============================] - 51s 1ms/step - loss: 0.1840 - acc: 0.9237 - val_loss: 0.3864 - val_acc: 0.8826\n",
      "Done!\n"
     ]
    }
   ],
   "source": [
    "# TODO: 36/62 channels?\n",
    "K.clear_session()\n",
    "model = Sequential()\n",
    "model.add(Conv2D(32, (3, 3), \n",
    "                 padding='valid', \n",
    "                 input_shape=x_train.shape[1:],\n",
    "                 activation='relu'))\n",
    "#model.add(BatchNormalization())\n",
    "#model.add(Conv2D(32, (3, 3), padding='valid', activation='relu'))   #+0.01\n",
    "model.add(MaxPooling2D(pool_size=(2, 2)))\n",
    "model.add(BatchNormalization())\n",
    "model.add(Conv2D(32, (3, 3), padding='valid', activation='relu'))\n",
    "model.add(MaxPooling2D(pool_size=(2, 2)))\n",
    "#model.add(Conv2D(28, (3, 3), padding='valid', activation='relu'))   #+0.00\n",
    "#model.add(BatchNormalization())\n",
    "\n",
    "model.add(Flatten())\n",
    "model.add(BatchNormalization())\n",
    "model.add(Dense(512, activation='relu'))\n",
    "model.add(BatchNormalization())\n",
    "#model.add(Dense(62, activation='relu'))   #+0.01\n",
    "#model.add(BatchNormalization())\n",
    "model.add(Dense(36, activation='softmax'))\n",
    "\n",
    "# initiate Adam optimizer\n",
    "opt = keras.optimizers.adam(lr=lrate, decay=decay)\n",
    "\n",
    "# Let's train the model using Adam\n",
    "model.compile(loss='sparse_categorical_crossentropy',\n",
    "              optimizer=opt,\n",
    "              metrics=['accuracy'])\n",
    "print(model.summary())\n",
    "\n",
    "seed=7\n",
    "np.random.seed(seed)\n",
    "hist_basic = model.fit(x_train, y_train,batch_size=batch_size,epochs=epochs,\n",
    "                       validation_data=(x_test, y_test),shuffle=True)\n",
    "print('Done!')"
   ]
  },
  {
   "cell_type": "code",
   "execution_count": null,
   "metadata": {
    "collapsed": true
   },
   "outputs": [],
   "source": [
    "# 47 to 36: 0.8858, trainable paras:448,301\n",
    "# 36: 0.8826, trainable paras:440,836"
   ]
  }
 ],
 "metadata": {
  "kernelspec": {
   "display_name": "Python 3",
   "language": "python",
   "name": "python3"
  },
  "language_info": {
   "codemirror_mode": {
    "name": "ipython",
    "version": 3
   },
   "file_extension": ".py",
   "mimetype": "text/x-python",
   "name": "python",
   "nbconvert_exporter": "python",
   "pygments_lexer": "ipython3",
   "version": "3.6.3"
  }
 },
 "nbformat": 4,
 "nbformat_minor": 2
}
